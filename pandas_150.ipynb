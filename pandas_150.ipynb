{
 "cells": [
  {
   "cell_type": "code",
   "execution_count": 8,
   "metadata": {},
   "outputs": [],
   "source": [
    "import pandas\n",
    "import pandas as pd\n",
    "import numpy\n",
    "import numpy as np\n",
    "import random as rn\n",
    "import functools\n",
    "import re"
   ]
  },
  {
   "cell_type": "code",
   "execution_count": 9,
   "metadata": {},
   "outputs": [
    {
     "name": "stdout",
     "output_type": "stream",
     "text": [
      "Task 1:\n",
      "0.23.0\n"
     ]
    }
   ],
   "source": [
    "'''\n",
    "    Task 1:\n",
    "        Check Pandas Version        \n",
    "'''\n",
    "print('Task 1:')  \n",
    "print(pd.__version__)"
   ]
  },
  {
   "cell_type": "code",
   "execution_count": 10,
   "metadata": {},
   "outputs": [
    {
     "name": "stdout",
     "output_type": "stream",
     "text": [
      "Task 2:\n",
      "       Col1  Col2  Col3\n",
      "Row1      0   0.0   0.0\n",
      "Row2      0   0.0   0.0\n",
      "Row3      0   0.0   0.0\n",
      "Row4      0   0.0   0.0\n",
      "Row5      0   0.0   0.0\n",
      "Row6      0   0.0   0.0\n",
      "Row7      0   0.0   0.0\n",
      "Row8      0   0.0   0.0\n",
      "Row9      0   0.0   0.0\n",
      "Row10     0   0.0   0.0\n",
      "Row11     0   0.0   0.0\n",
      "Row12     0   0.0   0.0\n",
      "Row13     0   0.0   0.0\n",
      "Row14     0   0.0   0.0\n",
      "Row15     0   0.0   0.0\n",
      "Row16     0   0.0   0.0\n",
      "Row17     0   0.0   0.0\n",
      "Row18     0   0.0   0.0\n",
      "Row19     0   0.0   0.0\n",
      "Row20     0   0.0   0.0\n",
      "    Col1  Col2  Col3\n",
      "0      0   0.0   0.0\n",
      "1      0   0.0   0.0\n",
      "2      0   0.0   0.0\n",
      "3      0   0.0   0.0\n",
      "4      0   0.0   0.0\n",
      "5      0   0.0   0.0\n",
      "6      0   0.0   0.0\n",
      "7      0   0.0   0.0\n",
      "8      0   0.0   0.0\n",
      "9      0   0.0   0.0\n",
      "10     0   0.0   0.0\n",
      "11     0   0.0   0.0\n",
      "12     0   0.0   0.0\n",
      "13     0   0.0   0.0\n",
      "14     0   0.0   0.0\n",
      "15     0   0.0   0.0\n",
      "16     0   0.0   0.0\n",
      "17     0   0.0   0.0\n",
      "18     0   0.0   0.0\n",
      "19     0   0.0   0.0\n"
     ]
    }
   ],
   "source": [
    "'''\n",
    "    Task 2:\n",
    "    \n",
    "    Numpy Array \n",
    "    Create three columns with Zero values            \n",
    "'''\n",
    "print('Task 2:')\n",
    "dtype = [('Col1','int32'), ('Col2','float32'), ('Col3','float32')]\n",
    "values = numpy.zeros(20, dtype=dtype)\n",
    "index = ['Row'+str(i) for i in range(1, len(values)+1)]\n",
    "\n",
    "df = pandas.DataFrame(values, index=index)\n",
    "\n",
    "print(df)\n",
    "\n",
    "df = pandas.DataFrame(values)\n",
    "print(df)"
   ]
  },
  {
   "cell_type": "code",
   "execution_count": 11,
   "metadata": {},
   "outputs": [
    {
     "name": "stdout",
     "output_type": "stream",
     "text": [
      "Task 3:\n",
      "                       0\n",
      "0  capacity,score,length\n",
      "1                1,10,30\n",
      "2                2,20,30\n",
      "3                3,30,40\n"
     ]
    }
   ],
   "source": [
    "'''\n",
    "    Task 3:\n",
    "        iLoc in Pandas\n",
    "        Print first five rows\n",
    "'''\n",
    "print('Task 3:')\n",
    "df = pandas.read_csv('data1.csv', sep=';', header=None)\n",
    "print(df.iloc[:4]) # 0 - 4 = 5 values"
   ]
  },
  {
   "cell_type": "code",
   "execution_count": 12,
   "metadata": {},
   "outputs": [
    {
     "name": "stdout",
     "output_type": "stream",
     "text": [
      "Task 4:\n",
      "[8 6 5 2]\n"
     ]
    }
   ],
   "source": [
    "'''\n",
    "    Task 4:\n",
    "        Create Random integer between 2 to 10 with 4 items        \n",
    "'''\n",
    "print('Task 4:')\n",
    "values = np.random.randint(2, 10, size=4)\n",
    "print(values)"
   ]
  },
  {
   "cell_type": "code",
   "execution_count": 13,
   "metadata": {},
   "outputs": [
    {
     "name": "stdout",
     "output_type": "stream",
     "text": [
      "Task 5:\n",
      "    x   y\n",
      "0  45  60\n",
      "1  25  89\n",
      "2  57  30\n"
     ]
    }
   ],
   "source": [
    "'''\n",
    "    Task 5:\n",
    "        Create Random integer between 2 to 10 with 4 items\n",
    "'''\n",
    "print('Task 5:')\n",
    "df = pd.DataFrame(np.random.randint(0, 100, size=(3, 2)), columns=list('xy'))\n",
    "print(df)"
   ]
  },
  {
   "cell_type": "code",
   "execution_count": 14,
   "metadata": {},
   "outputs": [
    {
     "name": "stdout",
     "output_type": "stream",
     "text": [
      "Task 6:\n",
      "    A   B   C   D\n",
      "0  94  30  10  68\n",
      "1  20  66  21  93\n"
     ]
    }
   ],
   "source": [
    "'''\n",
    "    Task 6:\n",
    "        Create Random integer between 2 to 10 with 4 items\n",
    "'''\n",
    "print('Task 6:')\n",
    "df = pd.DataFrame(np.random.randint(0, 100, size=(2, 4)), columns=['A', 'B', 'C', 'D'])\n",
    "print(df)"
   ]
  },
  {
   "cell_type": "code",
   "execution_count": 15,
   "metadata": {},
   "outputs": [
    {
     "name": "stdout",
     "output_type": "stream",
     "text": [
      "Task 7:\n",
      "[[0 4 0 0]\n",
      " [0 2 3 0]]\n"
     ]
    }
   ],
   "source": [
    "'''\n",
    "    Task 7:        \n",
    "    \n",
    "'''\n",
    "print('Task 7:')\n",
    "values = np.random.randint(5, size=(2, 4))\n",
    "print(values)"
   ]
  },
  {
   "cell_type": "code",
   "execution_count": 16,
   "metadata": {},
   "outputs": [
    {
     "name": "stdout",
     "output_type": "stream",
     "text": [
      "Task 8:\n"
     ]
    }
   ],
   "source": [
    "'''\n",
    "    Task 8:        \n",
    "        Numpy Random Seed 0\n",
    "        \n",
    "'''\n",
    "print('Task 8:') "
   ]
  },
  {
   "cell_type": "code",
   "execution_count": 17,
   "metadata": {},
   "outputs": [
    {
     "name": "stdout",
     "output_type": "stream",
     "text": [
      "Task 9:\n",
      "      One  Two\n",
      "Row1    0    0\n",
      "Row2    0    0\n",
      "Row3    0    0\n"
     ]
    }
   ],
   "source": [
    "'''\n",
    "    Task 9:\n",
    "        3 rows, 2 columns in pandas\n",
    "            1st column = random between 10 to 20\n",
    "            2nd column = random between 80 and 90\n",
    "            3rd column = random between 40 and 50 \n",
    "'''\n",
    "print('Task 9:')  \n",
    "dtype = [('One','int32'), ('Two','int32')]\n",
    "values = np.zeros(3, dtype=dtype)\n",
    "index = ['Row'+str(i) for i in range(1, 4)]\n",
    "\n",
    "df = pandas.DataFrame(values, index=index)\n",
    "print(df)"
   ]
  },
  {
   "cell_type": "code",
   "execution_count": 18,
   "metadata": {},
   "outputs": [
    {
     "name": "stdout",
     "output_type": "stream",
     "text": [
      "Task 10:\n",
      "[(0, 0) (0, 0) (0, 0)]\n",
      "      Science  Maths\n",
      "Row1        0      0\n",
      "Row2        0      0\n",
      "Row3        0      0\n"
     ]
    }
   ],
   "source": [
    "'''\n",
    "    Task 10:\n",
    "        Fill Random Science and Math Marks \n",
    "'''\n",
    "print('Task 10:')  \n",
    "dtype = [('Science','int32'), ('Maths','int32')]\n",
    "values = np.zeros(3, dtype=dtype)\n",
    "#values = np.random.randint(10, 100, size = (3, 5))\n",
    "#print(type(dtype))\n",
    "#values = np.random.randint(5, size=(2, 4))\n",
    "print(values)\n",
    "index = ['Row'+str(i) for i in range(1, 4)]\n",
    "\n",
    "df = pandas.DataFrame(values, index=index)\n",
    "print(df)"
   ]
  },
  {
   "cell_type": "code",
   "execution_count": 19,
   "metadata": {},
   "outputs": [
    {
     "name": "stdout",
     "output_type": "stream",
     "text": [
      "Task 11:\n",
      "              last_name                    company_name  \\\n",
      "first_name                                                \n",
      "Aleshia      Tomkiewicz         Alan D Rosenburg Cpa Pc   \n",
      "Evan          Zigomalas              Cap Gemini America   \n",
      "France          Andrade             Elliott, John W Esq   \n",
      "Ulysses       Mcwalters                  Mcmahan, Ben L   \n",
      "Tyisha           Veness                  Champagne Room   \n",
      "Eric              Rampy         Thompson, Michael C Esq   \n",
      "Marg           Grasmick   Wrangle Hill Auto Auct & Slvg   \n",
      "Laquita           Hisaw           In Communications Inc   \n",
      "Lura           Manzella                 Bizerba Usa Inc   \n",
      "Yuette           Klapec                       Max Video   \n",
      "Fernanda         Writer            K & R Associates Inc   \n",
      "Charlesetta         Erm                Cain, John M Esq   \n",
      "Corrinne          Jaret               Sound Vision Corp   \n",
      "Niesha            Bruch          Rowley/hansell Petetin   \n",
      "Rueben        Gastellum   Industrial Engineering Assocs   \n",
      "Michell       Throssell             Weiss Spirt & Guyer   \n",
      "Edgar             Kanne           Crowan, Kenneth W Esq   \n",
      "Dewitt            Julio            Rittenhouse Motor Co   \n",
      "Charisse       Spinello            Modern Plastics Corp   \n",
      "Mee            Lapinski        Galloway Electric Co Inc   \n",
      "Peter         Gutierres      Niagara Custombuilt Mfg Co   \n",
      "Octavio       Salvadore            Practical Periphrals   \n",
      "Martha          Teplica          Curtin, Patricia M Esq   \n",
      "Tamesha          Veigel             Wilhelm, James E Jr   \n",
      "Tess              Sitra                     Smart Signs   \n",
      "Leonard          Kufner    Arctic Star Distributing Inc   \n",
      "Svetlana         Tauras        Lensbower, Gregory L Esq   \n",
      "Pok            Molaison           Portal Metal Products   \n",
      "Augustine      Growcock               Lynema, Cliff Cpa   \n",
      "Karma            Quarto                 J C S Machinery   \n",
      "...                 ...                             ...   \n",
      "Tony         Diazdeleon              Dilling Harris Inc   \n",
      "Val              Villot            Horizon Air Magazine   \n",
      "Mel            Picciuto                  Avante Limited   \n",
      "Isabella     Piatkowski           Miller, William E Iii   \n",
      "Erasmo             Rhea                Martin Morrissey   \n",
      "Ivory           Lohrenz                 Auto Body Color   \n",
      "Nikita            Walka               Fred, Anthony Esq   \n",
      "Aleta            Ligons           Advantage Bookkeeping   \n",
      "Owen            Jentzen           Capital Fasteners Inc   \n",
      "Pauline           Fling      Cumberland Vacuum Products   \n",
      "Tijuana        Machalek          Schwartz, Thomas E Esq   \n",
      "Ahmad           Alsaqri    Alliance Construction Co Inc   \n",
      "Jamika           Conoly               Keller, Raymond C   \n",
      "Derrick         Dolloff         Proto Tek Manufacturing   \n",
      "Jacquelyne      Reibman            Great Clips For Hair   \n",
      "Zachary      Freeburger                 Country Kitchen   \n",
      "Sophia          Gaucher               T C E Systems Inc   \n",
      "Isabelle           Kono    Rock Springs Petroleum Equip   \n",
      "Ronnie          Brigman                  Howard Johnson   \n",
      "Krystina     Schlabaugh           Harris Oldsmobile Inc   \n",
      "Rosita        Ausdemore               Jurdem, Scott Esq   \n",
      "Huey            Stancil                   Lindner Funds   \n",
      "Elbert          Fiorino            Donald, G Nelson Esq   \n",
      "Pura            Manciel                  Cia Inspection   \n",
      "Alesia            Katie    Nelsons Trmt & Pest Cntrl Co   \n",
      "Avery              Veit      Plaza Gourmet Delicatessen   \n",
      "Reid            Euresti            Fitzgerald, Edward J   \n",
      "Charlette      Brenning              Furey & Associates   \n",
      "Celestina         Keeny        Bfg Federal Credit Union   \n",
      "Mi               Richan  Nelson Wright Haworth Golf Crs   \n",
      "\n",
      "                            address                            city  \\\n",
      "first_name                                                            \n",
      "Aleshia                14 Taylor St               St. Stephens Ward   \n",
      "Evan                    5 Binney St                      Abbey Ward   \n",
      "France                 8 Moor Place  East Southbourne and Tuckton W   \n",
      "Ulysses               505 Exeter Rd              Hawerby cum Beesby   \n",
      "Tyisha            5396 Forth Street      Greets Green and Lyng Ward   \n",
      "Eric                   9472 Lind St                      Desborough   \n",
      "Marg               7457 Cowl St #70                    Bargate Ward   \n",
      "Laquita        20 Gloucester Pl #96                    Chirton Ward   \n",
      "Lura               929 Augustine St                Staple Hill Ward   \n",
      "Yuette         45 Bradfield St #166                         Parwich   \n",
      "Fernanda         620 Northampton St                      Wilmington   \n",
      "Charlesetta             5 Hygeia St            Loundsley Green Ward   \n",
      "Corrinne             2150 Morley St                        Dee Ward   \n",
      "Niesha                 24 Bolton St  Broxburn, Uphall and Winchburg   \n",
      "Rueben                 4 Forrest St               Weston-Super-Mare   \n",
      "Michell                  89 Noon St                       Carbrooke   \n",
      "Edgar                 99 Guthrie St                      New Milton   \n",
      "Dewitt                7 Richmond St                         Parkham   \n",
      "Charisse           9165 Primrose St                    Darnall Ward   \n",
      "Mee                   9 Pengwern St                         Marldon   \n",
      "Peter               4410 Tarlton St             Prestatyn Community   \n",
      "Octavio              6949 Bourne St  Lye and Stourbridge North Ward   \n",
      "Martha             148 Rembrandt St                      Warlingham   \n",
      "Tamesha          2200 Nelson St #58                         Newport   \n",
      "Tess                  61 Rossett St                      Chichester   \n",
      "Leonard               41 Canning St        Steornabhagh a Deas Ward   \n",
      "Svetlana            8289 Cadogan St                      South Ward   \n",
      "Pok                   211 Hobart St                         Newquay   \n",
      "Augustine     114 Falkland St #8845                        Brimpton   \n",
      "Karma                  1 Birkett St                  Shard End Ward   \n",
      "...                             ...                             ...   \n",
      "Tony                529 Llanrwst St                         Southam   \n",
      "Val               1980 Tynemouth St                     Almond Ward   \n",
      "Mel                  8598 Rumney Rd                    Hylands Ward   \n",
      "Isabella           9283 Ruth St #81              Dormers Wells Ward   \n",
      "Erasmo           5544 Sutherland St                        Mortehoe   \n",
      "Ivory                  9 Jackson St                       Parr Ward   \n",
      "Nikita              3612 Bixteth St             Hucknall North Ward   \n",
      "Aleta              4545 Victoria Rd        Kilbirnie and Beith Ward   \n",
      "Owen                   5 Hampden St                    Liscard Ward   \n",
      "Pauline          6452 Pilgrim St #5              Seven Sisters Ward   \n",
      "Tijuana      1149 Highfield Rd #996              Fareham South Ward   \n",
      "Ahmad                21 Pickwick St           Sutton cum Duckmanton   \n",
      "Jamika                   19 Soho St                    Whitley Ward   \n",
      "Derrick             236 Blantyre Rd                    Everton Ward   \n",
      "Jacquelyne              70 Lilly Rd                    Shirley Ward   \n",
      "Zachary            58 Gloucester Rd                        Holbrook   \n",
      "Sophia       88 Upper Harrington St                 North East Ward   \n",
      "Isabelle         4920 Fazakerley Rd         Plymstock Dunstone Ward   \n",
      "Ronnie                  6 Morley St                  Batchwood Ward   \n",
      "Krystina              7316 Friar St                 Salvington Ward   \n",
      "Rosita         8 Heathfield St #657                        Hailsham   \n",
      "Huey                    275 Peel Sq                       Park Ward   \n",
      "Elbert       726 Westmoreland Place                Ballochmyle Ward   \n",
      "Pura                     7 Water St               Priory Heath Ward   \n",
      "Alesia              4 Covent Garden                  Farnworth Ward   \n",
      "Avery            9166 Devon St #905  Knightsbridge and Belgravia Wa   \n",
      "Reid                   70 Foster St        Inverness Ness-Side Ward   \n",
      "Charlette           714 Fonthill Rd                Darton West Ward   \n",
      "Celestina               9 Milton St                Consett North ED   \n",
      "Mi                  6 Norwood Grove               Tanworth-in-Arden   \n",
      "\n",
      "                              county    postal        phone1        phone2  \\\n",
      "first_name                                                                   \n",
      "Aleshia                         Kent   CT2 7PP  01835-703597  01944-369967   \n",
      "Evan                 Buckinghamshire  HP11 2AX  01937-864715  01714-737668   \n",
      "France                   Bournemouth   BH6 3BE  01347-368222  01935-821636   \n",
      "Ulysses                 Lincolnshire  DN36 5RP  01912-771311  01302-601380   \n",
      "Tyisha                 West Midlands   B70 9DT  01547-429341  01290-367248   \n",
      "Eric                Northamptonshire  NN14 2GH  01969-886290  01545-817375   \n",
      "Marg                     Southampton  SO14 3TY  01865-582516  01362-620532   \n",
      "Laquita                  Tyne & Wear  NE29 7AD  01746-394243  01590-982428   \n",
      "Lura           South Gloucestershire  BS16 4LL  01907-538509  01340-713951   \n",
      "Yuette                    Derbyshire   DE6 1QN  01903-649460  01933-512513   \n",
      "Fernanda                        Kent   DA2 7PP  01630-202053  01687-879391   \n",
      "Charlesetta               Derbyshire   S40 4LY  01276-816806  01517-624517   \n",
      "Corrinne       Dumfries and Galloway   DG8 7DE  01625-932209  01642-322954   \n",
      "Niesha                  West Lothian  EH52 5TL  01874-856950  01342-793603   \n",
      "Rueben                North Somerset  BS23 3HG  01976-755279  01956-535511   \n",
      "Michell                      Norfolk  IP25 6JQ  01967-580851  01672-496478   \n",
      "Edgar                      Hampshire  BH25 5DF  01326-532337  01666-638176   \n",
      "Dewitt                         Devon  EX39 5DJ  01253-528327  01241-964675   \n",
      "Charisse            Yorkshire, South    S4 7WN  01719-831436  01207-428520   \n",
      "Mee                            Devon   TQ3 1SA  01578-287816  01939-815208   \n",
      "Peter                   Denbighshire  LL19 9EG  01842-767201  01859-648598   \n",
      "Octavio                West Midlands   DY5 2QP  01552-709248  01743-139456   \n",
      "Martha                        Surrey   CR6 9SW  01677-684257  01583-287367   \n",
      "Tamesha                Isle of Wight  PO30 5AL  01217-342071  01280-786847   \n",
      "Tess                     West Sussex  PO19 1RH  01473-229124  01848-116775   \n",
      "Leonard                Western Isles   HS1 2PZ  01230-623547  01604-718601   \n",
      "Svetlana     North Eart Lincolnshire  DN33 1AU  01781-827317  01509-121140   \n",
      "Pok                         Cornwall   TR7 1LS  01866-248660  01315-284286   \n",
      "Augustine                  Berkshire   RG7 4RF  01541-802635  01926-108010   \n",
      "Karma                  West Midlands   B33 0NH  01857-864722  01307-667811   \n",
      "...                              ...       ...           ...           ...   \n",
      "Tony                 Gloucestershire  GL52 8TW  01765-102036  01877-593275   \n",
      "Val                     West Lothian  EH52 5PY  01375-870188  01602-987840   \n",
      "Mel                            Essex  RM11 1QL  01885-270480  01268-443299   \n",
      "Isabella              Greater London   UB1 2FH  01979-186995  01998-980054   \n",
      "Erasmo                         Devon  EX34 7DQ  01507-386397  01899-316385   \n",
      "Ivory                     Merseyside   WA9 3QW  01876-642683  01651-132519   \n",
      "Nikita               Nottinghamshire  NG15 8DD  01282-123434  01724-455145   \n",
      "Aleta                 North Ayrshire  KA15 1AT  01952-535977  01715-637895   \n",
      "Owen                      Merseyside  CH45 4RN  01467-142439  01917-137038   \n",
      "Pauline               Greater London   N15 6TH  01990-476494  01458-113457   \n",
      "Tijuana                    Hampshire  PO14 9JJ  01242-532395  01336-686264   \n",
      "Ahmad                     Derbyshire   S44 5DS  01567-555570  01852-550588   \n",
      "Jamika                     Berkshire   RG1 9XH  01726-595316  01597-168997   \n",
      "Derrick                   Merseyside    L6 2EN  01982-734773  01619-554437   \n",
      "Jacquelyne            Greater London   CR0 7PT  01846-581451  01850-754504   \n",
      "Zachary                   Derbyshire  DE56 0TX  01888-641397  01240-433924   \n",
      "Sophia             North Lanarkshire   G69 8EL  01504-539114  01254-919378   \n",
      "Isabelle                       Devon   PL9 8RD  01552-682601  01953-816728   \n",
      "Ronnie                 Hertfordshire   AL3 5JN  01943-754681  01972-686199   \n",
      "Krystina                 West Sussex  BN13 3FL  01441-846477  01332-799979   \n",
      "Rosita                   East Sussex  BN27 1AJ  01273-236188  01997-765432   \n",
      "Huey         North Eart Lincolnshire  DN32 0PT  01502-139578  01468-195646   \n",
      "Elbert                 East Ayrshire   KA5 6EL  01724-467889  01992-537553   \n",
      "Pura                         Suffolk   IP3 9RB  01853-412588  01386-437186   \n",
      "Alesia            Greater Manchester   BL4 7AF  01333-436799  01240-614527   \n",
      "Avery                 Greater London  SW1W 8JY  01748-625058  01369-185737   \n",
      "Reid                        Highland   IV2 6WT  01916-963261  01370-319414   \n",
      "Charlette            South Yorkshire   S75 5EJ  01888-152110  01301-312487   \n",
      "Celestina              County Durham   DH8 5LP  01877-379681  01600-463475   \n",
      "Mi                      Warwickshire   B94 5RZ  01451-785624  01202-738406   \n",
      "\n",
      "                                            email  \\\n",
      "first_name                                          \n",
      "Aleshia                   atomkiewicz@hotmail.com   \n",
      "Evan                     evan.zigomalas@gmail.com   \n",
      "France                 france.andrade@hotmail.com   \n",
      "Ulysses                       ulysses@hotmail.com   \n",
      "Tyisha                  tyisha.veness@hotmail.com   \n",
      "Eric                           erampy@rampy.co.uk   \n",
      "Marg                             marg@hotmail.com   \n",
      "Laquita                         laquita@yahoo.com   \n",
      "Lura                             lura@hotmail.com   \n",
      "Yuette                 yuette.klapec@klapec.co.uk   \n",
      "Fernanda                    fernanda@writer.co.uk   \n",
      "Charlesetta             charlesetta_erm@gmail.com   \n",
      "Corrinne                 corrinne_jaret@gmail.com   \n",
      "Niesha                     niesha.bruch@yahoo.com   \n",
      "Rueben           rueben_gastellum@gastellum.co.uk   \n",
      "Michell                mthrossell@throssell.co.uk   \n",
      "Edgar                       edgar.kanne@yahoo.com   \n",
      "Dewitt                   dewitt.julio@hotmail.com   \n",
      "Charisse         charisse_spinello@spinello.co.uk   \n",
      "Mee                        mee.lapinski@yahoo.com   \n",
      "Peter                   peter_gutierres@yahoo.com   \n",
      "Octavio               octavio.salvadore@yahoo.com   \n",
      "Martha                     mteplica@teplica.co.uk   \n",
      "Tamesha                      tveigel@veigel.co.uk   \n",
      "Tess                       tess_sitra@hotmail.com   \n",
      "Leonard                      lkufner@kufner.co.uk   \n",
      "Svetlana             svetlana_tauras@tauras.co.uk   \n",
      "Pok                                 pok@yahoo.com   \n",
      "Augustine       augustine.growcock@growcock.co.uk   \n",
      "Karma                           kquarto@gmail.com   \n",
      "...                                           ...   \n",
      "Tony                               tony@gmail.com   \n",
      "Val                                 val@yahoo.com   \n",
      "Mel                        mel.picciuto@gmail.com   \n",
      "Isabella     isabella_piatkowski@piatkowski.co.uk   \n",
      "Erasmo                    erasmo_rhea@hotmail.com   \n",
      "Ivory                           ivory@hotmail.com   \n",
      "Nikita                         nwalka@hotmail.com   \n",
      "Aleta                    aleta_ligons@hotmail.com   \n",
      "Owen                   owen_jentzen@jentzen.co.uk   \n",
      "Pauline                        pfling@fling.co.uk   \n",
      "Tijuana                tijuana.machalek@gmail.com   \n",
      "Ahmad                     ahmad.alsaqri@yahoo.com   \n",
      "Jamika                 jamika_conoly@conoly.co.uk   \n",
      "Derrick                 derrick_dolloff@gmail.com   \n",
      "Jacquelyne           jacquelyne_reibman@yahoo.com   \n",
      "Zachary       zachary.freeburger@freeburger.co.uk   \n",
      "Sophia                 sophia.gaucher@hotmail.com   \n",
      "Isabelle                  isabelle.kono@yahoo.com   \n",
      "Ronnie                       ronnie@brigman.co.uk   \n",
      "Krystina             kschlabaugh@schlabaugh.co.uk   \n",
      "Rosita                     rausdemore@hotmail.com   \n",
      "Huey                         hstancil@hotmail.com   \n",
      "Elbert                         elbert@hotmail.com   \n",
      "Pura                       pura.manciel@yahoo.com   \n",
      "Alesia                     alesia_katie@gmail.com   \n",
      "Avery                            avery@veit.co.uk   \n",
      "Reid                       reuresti@euresti.co.uk   \n",
      "Charlette                cbrenning@brenning.co.uk   \n",
      "Celestina               celestina_keeny@gmail.com   \n",
      "Mi                                 mi@hotmail.com   \n",
      "\n",
      "                                                      web  \n",
      "first_name                                                 \n",
      "Aleshia              http://www.alandrosenburgcpapc.co.uk  \n",
      "Evan                    http://www.capgeminiamerica.co.uk  \n",
      "France                   http://www.elliottjohnwesq.co.uk  \n",
      "Ulysses                      http://www.mcmahanbenl.co.uk  \n",
      "Tyisha                     http://www.champagneroom.co.uk  \n",
      "Eric                 http://www.thompsonmichaelcesq.co.uk  \n",
      "Marg             http://www.wranglehillautoauctslvg.co.uk  \n",
      "Laquita              http://www.incommunicationsinc.co.uk  \n",
      "Lura                       http://www.bizerbausainc.co.uk  \n",
      "Yuette                          http://www.maxvideo.co.uk  \n",
      "Fernanda                 http://www.krassociatesinc.co.uk  \n",
      "Charlesetta                 http://www.cainjohnmesq.co.uk  \n",
      "Corrinne                 http://www.soundvisioncorp.co.uk  \n",
      "Niesha              http://www.rowleyhansellpetetin.co.uk  \n",
      "Rueben       http://www.industrialengineeringassocs.co.uk  \n",
      "Michell                  http://www.weissspirtguyer.co.uk  \n",
      "Edgar                  http://www.crowankennethwesq.co.uk  \n",
      "Dewitt                http://www.rittenhousemotorco.co.uk  \n",
      "Charisse              http://www.modernplasticscorp.co.uk  \n",
      "Mee                http://www.gallowayelectriccoinc.co.uk  \n",
      "Peter            http://www.niagaracustombuiltmfgco.co.uk  \n",
      "Octavio              http://www.practicalperiphrals.co.uk  \n",
      "Martha                http://www.curtinpatriciamesq.co.uk  \n",
      "Tamesha                  http://www.wilhelmjamesejr.co.uk  \n",
      "Tess                          http://www.smartsigns.co.uk  \n",
      "Leonard        http://www.arcticstardistributinginc.co.uk  \n",
      "Svetlana            http://www.lensbowergregorylesq.co.uk  \n",
      "Pok                  http://www.portalmetalproducts.co.uk  \n",
      "Augustine                 http://www.lynemacliffcpa.co.uk  \n",
      "Karma                       http://www.jcsmachinery.co.uk  \n",
      "...                                                   ...  \n",
      "Tony                    http://www.dillingharrisinc.co.uk  \n",
      "Val                   http://www.horizonairmagazine.co.uk  \n",
      "Mel                        http://www.avantelimited.co.uk  \n",
      "Isabella               http://www.millerwilliameiii.co.uk  \n",
      "Erasmo                   http://www.martinmorrissey.co.uk  \n",
      "Ivory                      http://www.autobodycolor.co.uk  \n",
      "Nikita                    http://www.fredanthonyesq.co.uk  \n",
      "Aleta               http://www.advantagebookkeeping.co.uk  \n",
      "Owen                 http://www.capitalfastenersinc.co.uk  \n",
      "Pauline         http://www.cumberlandvacuumproducts.co.uk  \n",
      "Tijuana               http://www.schwartzthomaseesq.co.uk  \n",
      "Ahmad          http://www.allianceconstructioncoinc.co.uk  \n",
      "Jamika                    http://www.kellerraymondc.co.uk  \n",
      "Derrick            http://www.prototekmanufacturing.co.uk  \n",
      "Jacquelyne             http://www.greatclipsforhair.co.uk  \n",
      "Zachary                   http://www.countrykitchen.co.uk  \n",
      "Sophia                     http://www.tcesystemsinc.co.uk  \n",
      "Isabelle       http://www.rockspringspetroleumequip.co.uk  \n",
      "Ronnie                     http://www.howardjohnson.co.uk  \n",
      "Krystina             http://www.harrisoldsmobileinc.co.uk  \n",
      "Rosita                    http://www.jurdemscottesq.co.uk  \n",
      "Huey                        http://www.lindnerfunds.co.uk  \n",
      "Elbert                  http://www.donaldgnelsonesq.co.uk  \n",
      "Pura                       http://www.ciainspection.co.uk  \n",
      "Alesia            http://www.nelsonstrmtpestcntrlco.co.uk  \n",
      "Avery           http://www.plazagourmetdelicatessen.co.uk  \n",
      "Reid                   http://www.fitzgeraldedwardj.co.uk  \n",
      "Charlette                http://www.fureyassociates.co.uk  \n",
      "Celestina          http://www.bfgfederalcreditunion.co.uk  \n",
      "Mi            http://www.nelsonwrighthaworthgolfcrs.co.uk  \n",
      "\n",
      "[500 rows x 10 columns]\n"
     ]
    },
    {
     "name": "stderr",
     "output_type": "stream",
     "text": [
      "C:\\ProgramData\\Anaconda3.5\\lib\\site-packages\\ipykernel_launcher.py:9: FutureWarning: from_csv is deprecated. Please use read_csv(...) instead. Note that some of the default arguments are different, so please refer to the documentation for from_csv when changing your function calls\n",
      "  if __name__ == '__main__':\n"
     ]
    }
   ],
   "source": [
    "'''\n",
    "    Task 11:\n",
    "        CSV to Dataframe (from_csv)\n",
    "        Note: from_csv is Deprecated since version 0.21.0: Use pandas.read_csv() instead.\n",
    "        \n",
    "'''\n",
    "print('Task 11:')  \n",
    "\n",
    "csv = pd.DataFrame.from_csv('uk-500.csv')\n",
    "print(csv)"
   ]
  },
  {
   "cell_type": "code",
   "execution_count": 20,
   "metadata": {},
   "outputs": [
    {
     "name": "stdout",
     "output_type": "stream",
     "text": [
      "Task 12:\n",
      "              last_name                    company_name  \\\n",
      "first_name                                                \n",
      "Aleshia      Tomkiewicz         Alan D Rosenburg Cpa Pc   \n",
      "Evan          Zigomalas              Cap Gemini America   \n",
      "France          Andrade             Elliott, John W Esq   \n",
      "Ulysses       Mcwalters                  Mcmahan, Ben L   \n",
      "Tyisha           Veness                  Champagne Room   \n",
      "Eric              Rampy         Thompson, Michael C Esq   \n",
      "Marg           Grasmick   Wrangle Hill Auto Auct & Slvg   \n",
      "Laquita           Hisaw           In Communications Inc   \n",
      "Lura           Manzella                 Bizerba Usa Inc   \n",
      "Yuette           Klapec                       Max Video   \n",
      "Fernanda         Writer            K & R Associates Inc   \n",
      "Charlesetta         Erm                Cain, John M Esq   \n",
      "Corrinne          Jaret               Sound Vision Corp   \n",
      "Niesha            Bruch          Rowley/hansell Petetin   \n",
      "Rueben        Gastellum   Industrial Engineering Assocs   \n",
      "Michell       Throssell             Weiss Spirt & Guyer   \n",
      "Edgar             Kanne           Crowan, Kenneth W Esq   \n",
      "Dewitt            Julio            Rittenhouse Motor Co   \n",
      "Charisse       Spinello            Modern Plastics Corp   \n",
      "Mee            Lapinski        Galloway Electric Co Inc   \n",
      "Peter         Gutierres      Niagara Custombuilt Mfg Co   \n",
      "Octavio       Salvadore            Practical Periphrals   \n",
      "Martha          Teplica          Curtin, Patricia M Esq   \n",
      "Tamesha          Veigel             Wilhelm, James E Jr   \n",
      "Tess              Sitra                     Smart Signs   \n",
      "Leonard          Kufner    Arctic Star Distributing Inc   \n",
      "Svetlana         Tauras        Lensbower, Gregory L Esq   \n",
      "Pok            Molaison           Portal Metal Products   \n",
      "Augustine      Growcock               Lynema, Cliff Cpa   \n",
      "Karma            Quarto                 J C S Machinery   \n",
      "...                 ...                             ...   \n",
      "Tony         Diazdeleon              Dilling Harris Inc   \n",
      "Val              Villot            Horizon Air Magazine   \n",
      "Mel            Picciuto                  Avante Limited   \n",
      "Isabella     Piatkowski           Miller, William E Iii   \n",
      "Erasmo             Rhea                Martin Morrissey   \n",
      "Ivory           Lohrenz                 Auto Body Color   \n",
      "Nikita            Walka               Fred, Anthony Esq   \n",
      "Aleta            Ligons           Advantage Bookkeeping   \n",
      "Owen            Jentzen           Capital Fasteners Inc   \n",
      "Pauline           Fling      Cumberland Vacuum Products   \n",
      "Tijuana        Machalek          Schwartz, Thomas E Esq   \n",
      "Ahmad           Alsaqri    Alliance Construction Co Inc   \n",
      "Jamika           Conoly               Keller, Raymond C   \n",
      "Derrick         Dolloff         Proto Tek Manufacturing   \n",
      "Jacquelyne      Reibman            Great Clips For Hair   \n",
      "Zachary      Freeburger                 Country Kitchen   \n",
      "Sophia          Gaucher               T C E Systems Inc   \n",
      "Isabelle           Kono    Rock Springs Petroleum Equip   \n",
      "Ronnie          Brigman                  Howard Johnson   \n",
      "Krystina     Schlabaugh           Harris Oldsmobile Inc   \n",
      "Rosita        Ausdemore               Jurdem, Scott Esq   \n",
      "Huey            Stancil                   Lindner Funds   \n",
      "Elbert          Fiorino            Donald, G Nelson Esq   \n",
      "Pura            Manciel                  Cia Inspection   \n",
      "Alesia            Katie    Nelsons Trmt & Pest Cntrl Co   \n",
      "Avery              Veit      Plaza Gourmet Delicatessen   \n",
      "Reid            Euresti            Fitzgerald, Edward J   \n",
      "Charlette      Brenning              Furey & Associates   \n",
      "Celestina         Keeny        Bfg Federal Credit Union   \n",
      "Mi               Richan  Nelson Wright Haworth Golf Crs   \n",
      "\n",
      "                            address                            city  \\\n",
      "first_name                                                            \n",
      "Aleshia                14 Taylor St               St. Stephens Ward   \n",
      "Evan                    5 Binney St                      Abbey Ward   \n",
      "France                 8 Moor Place  East Southbourne and Tuckton W   \n",
      "Ulysses               505 Exeter Rd              Hawerby cum Beesby   \n",
      "Tyisha            5396 Forth Street      Greets Green and Lyng Ward   \n",
      "Eric                   9472 Lind St                      Desborough   \n",
      "Marg               7457 Cowl St #70                    Bargate Ward   \n",
      "Laquita        20 Gloucester Pl #96                    Chirton Ward   \n",
      "Lura               929 Augustine St                Staple Hill Ward   \n",
      "Yuette         45 Bradfield St #166                         Parwich   \n",
      "Fernanda         620 Northampton St                      Wilmington   \n",
      "Charlesetta             5 Hygeia St            Loundsley Green Ward   \n",
      "Corrinne             2150 Morley St                        Dee Ward   \n",
      "Niesha                 24 Bolton St  Broxburn, Uphall and Winchburg   \n",
      "Rueben                 4 Forrest St               Weston-Super-Mare   \n",
      "Michell                  89 Noon St                       Carbrooke   \n",
      "Edgar                 99 Guthrie St                      New Milton   \n",
      "Dewitt                7 Richmond St                         Parkham   \n",
      "Charisse           9165 Primrose St                    Darnall Ward   \n",
      "Mee                   9 Pengwern St                         Marldon   \n",
      "Peter               4410 Tarlton St             Prestatyn Community   \n",
      "Octavio              6949 Bourne St  Lye and Stourbridge North Ward   \n",
      "Martha             148 Rembrandt St                      Warlingham   \n",
      "Tamesha          2200 Nelson St #58                         Newport   \n",
      "Tess                  61 Rossett St                      Chichester   \n",
      "Leonard               41 Canning St        Steornabhagh a Deas Ward   \n",
      "Svetlana            8289 Cadogan St                      South Ward   \n",
      "Pok                   211 Hobart St                         Newquay   \n",
      "Augustine     114 Falkland St #8845                        Brimpton   \n",
      "Karma                  1 Birkett St                  Shard End Ward   \n",
      "...                             ...                             ...   \n",
      "Tony                529 Llanrwst St                         Southam   \n",
      "Val               1980 Tynemouth St                     Almond Ward   \n",
      "Mel                  8598 Rumney Rd                    Hylands Ward   \n",
      "Isabella           9283 Ruth St #81              Dormers Wells Ward   \n",
      "Erasmo           5544 Sutherland St                        Mortehoe   \n",
      "Ivory                  9 Jackson St                       Parr Ward   \n",
      "Nikita              3612 Bixteth St             Hucknall North Ward   \n",
      "Aleta              4545 Victoria Rd        Kilbirnie and Beith Ward   \n",
      "Owen                   5 Hampden St                    Liscard Ward   \n",
      "Pauline          6452 Pilgrim St #5              Seven Sisters Ward   \n",
      "Tijuana      1149 Highfield Rd #996              Fareham South Ward   \n",
      "Ahmad                21 Pickwick St           Sutton cum Duckmanton   \n",
      "Jamika                   19 Soho St                    Whitley Ward   \n",
      "Derrick             236 Blantyre Rd                    Everton Ward   \n",
      "Jacquelyne              70 Lilly Rd                    Shirley Ward   \n",
      "Zachary            58 Gloucester Rd                        Holbrook   \n",
      "Sophia       88 Upper Harrington St                 North East Ward   \n",
      "Isabelle         4920 Fazakerley Rd         Plymstock Dunstone Ward   \n",
      "Ronnie                  6 Morley St                  Batchwood Ward   \n",
      "Krystina              7316 Friar St                 Salvington Ward   \n",
      "Rosita         8 Heathfield St #657                        Hailsham   \n",
      "Huey                    275 Peel Sq                       Park Ward   \n",
      "Elbert       726 Westmoreland Place                Ballochmyle Ward   \n",
      "Pura                     7 Water St               Priory Heath Ward   \n",
      "Alesia              4 Covent Garden                  Farnworth Ward   \n",
      "Avery            9166 Devon St #905  Knightsbridge and Belgravia Wa   \n",
      "Reid                   70 Foster St        Inverness Ness-Side Ward   \n",
      "Charlette           714 Fonthill Rd                Darton West Ward   \n",
      "Celestina               9 Milton St                Consett North ED   \n",
      "Mi                  6 Norwood Grove               Tanworth-in-Arden   \n",
      "\n",
      "                              county    postal        phone1        phone2  \\\n",
      "first_name                                                                   \n",
      "Aleshia                         Kent   CT2 7PP  01835-703597  01944-369967   \n",
      "Evan                 Buckinghamshire  HP11 2AX  01937-864715  01714-737668   \n",
      "France                   Bournemouth   BH6 3BE  01347-368222  01935-821636   \n",
      "Ulysses                 Lincolnshire  DN36 5RP  01912-771311  01302-601380   \n",
      "Tyisha                 West Midlands   B70 9DT  01547-429341  01290-367248   \n",
      "Eric                Northamptonshire  NN14 2GH  01969-886290  01545-817375   \n",
      "Marg                     Southampton  SO14 3TY  01865-582516  01362-620532   \n",
      "Laquita                  Tyne & Wear  NE29 7AD  01746-394243  01590-982428   \n",
      "Lura           South Gloucestershire  BS16 4LL  01907-538509  01340-713951   \n",
      "Yuette                    Derbyshire   DE6 1QN  01903-649460  01933-512513   \n",
      "Fernanda                        Kent   DA2 7PP  01630-202053  01687-879391   \n",
      "Charlesetta               Derbyshire   S40 4LY  01276-816806  01517-624517   \n",
      "Corrinne       Dumfries and Galloway   DG8 7DE  01625-932209  01642-322954   \n",
      "Niesha                  West Lothian  EH52 5TL  01874-856950  01342-793603   \n",
      "Rueben                North Somerset  BS23 3HG  01976-755279  01956-535511   \n",
      "Michell                      Norfolk  IP25 6JQ  01967-580851  01672-496478   \n",
      "Edgar                      Hampshire  BH25 5DF  01326-532337  01666-638176   \n",
      "Dewitt                         Devon  EX39 5DJ  01253-528327  01241-964675   \n",
      "Charisse            Yorkshire, South    S4 7WN  01719-831436  01207-428520   \n",
      "Mee                            Devon   TQ3 1SA  01578-287816  01939-815208   \n",
      "Peter                   Denbighshire  LL19 9EG  01842-767201  01859-648598   \n",
      "Octavio                West Midlands   DY5 2QP  01552-709248  01743-139456   \n",
      "Martha                        Surrey   CR6 9SW  01677-684257  01583-287367   \n",
      "Tamesha                Isle of Wight  PO30 5AL  01217-342071  01280-786847   \n",
      "Tess                     West Sussex  PO19 1RH  01473-229124  01848-116775   \n",
      "Leonard                Western Isles   HS1 2PZ  01230-623547  01604-718601   \n",
      "Svetlana     North Eart Lincolnshire  DN33 1AU  01781-827317  01509-121140   \n",
      "Pok                         Cornwall   TR7 1LS  01866-248660  01315-284286   \n",
      "Augustine                  Berkshire   RG7 4RF  01541-802635  01926-108010   \n",
      "Karma                  West Midlands   B33 0NH  01857-864722  01307-667811   \n",
      "...                              ...       ...           ...           ...   \n",
      "Tony                 Gloucestershire  GL52 8TW  01765-102036  01877-593275   \n",
      "Val                     West Lothian  EH52 5PY  01375-870188  01602-987840   \n",
      "Mel                            Essex  RM11 1QL  01885-270480  01268-443299   \n",
      "Isabella              Greater London   UB1 2FH  01979-186995  01998-980054   \n",
      "Erasmo                         Devon  EX34 7DQ  01507-386397  01899-316385   \n",
      "Ivory                     Merseyside   WA9 3QW  01876-642683  01651-132519   \n",
      "Nikita               Nottinghamshire  NG15 8DD  01282-123434  01724-455145   \n",
      "Aleta                 North Ayrshire  KA15 1AT  01952-535977  01715-637895   \n",
      "Owen                      Merseyside  CH45 4RN  01467-142439  01917-137038   \n",
      "Pauline               Greater London   N15 6TH  01990-476494  01458-113457   \n",
      "Tijuana                    Hampshire  PO14 9JJ  01242-532395  01336-686264   \n",
      "Ahmad                     Derbyshire   S44 5DS  01567-555570  01852-550588   \n",
      "Jamika                     Berkshire   RG1 9XH  01726-595316  01597-168997   \n",
      "Derrick                   Merseyside    L6 2EN  01982-734773  01619-554437   \n",
      "Jacquelyne            Greater London   CR0 7PT  01846-581451  01850-754504   \n",
      "Zachary                   Derbyshire  DE56 0TX  01888-641397  01240-433924   \n",
      "Sophia             North Lanarkshire   G69 8EL  01504-539114  01254-919378   \n",
      "Isabelle                       Devon   PL9 8RD  01552-682601  01953-816728   \n",
      "Ronnie                 Hertfordshire   AL3 5JN  01943-754681  01972-686199   \n",
      "Krystina                 West Sussex  BN13 3FL  01441-846477  01332-799979   \n",
      "Rosita                   East Sussex  BN27 1AJ  01273-236188  01997-765432   \n",
      "Huey         North Eart Lincolnshire  DN32 0PT  01502-139578  01468-195646   \n",
      "Elbert                 East Ayrshire   KA5 6EL  01724-467889  01992-537553   \n",
      "Pura                         Suffolk   IP3 9RB  01853-412588  01386-437186   \n",
      "Alesia            Greater Manchester   BL4 7AF  01333-436799  01240-614527   \n",
      "Avery                 Greater London  SW1W 8JY  01748-625058  01369-185737   \n",
      "Reid                        Highland   IV2 6WT  01916-963261  01370-319414   \n",
      "Charlette            South Yorkshire   S75 5EJ  01888-152110  01301-312487   \n",
      "Celestina              County Durham   DH8 5LP  01877-379681  01600-463475   \n",
      "Mi                      Warwickshire   B94 5RZ  01451-785624  01202-738406   \n",
      "\n",
      "                                            email  \\\n",
      "first_name                                          \n",
      "Aleshia                   atomkiewicz@hotmail.com   \n",
      "Evan                     evan.zigomalas@gmail.com   \n",
      "France                 france.andrade@hotmail.com   \n",
      "Ulysses                       ulysses@hotmail.com   \n",
      "Tyisha                  tyisha.veness@hotmail.com   \n",
      "Eric                           erampy@rampy.co.uk   \n",
      "Marg                             marg@hotmail.com   \n",
      "Laquita                         laquita@yahoo.com   \n",
      "Lura                             lura@hotmail.com   \n",
      "Yuette                 yuette.klapec@klapec.co.uk   \n",
      "Fernanda                    fernanda@writer.co.uk   \n",
      "Charlesetta             charlesetta_erm@gmail.com   \n",
      "Corrinne                 corrinne_jaret@gmail.com   \n",
      "Niesha                     niesha.bruch@yahoo.com   \n",
      "Rueben           rueben_gastellum@gastellum.co.uk   \n",
      "Michell                mthrossell@throssell.co.uk   \n",
      "Edgar                       edgar.kanne@yahoo.com   \n",
      "Dewitt                   dewitt.julio@hotmail.com   \n",
      "Charisse         charisse_spinello@spinello.co.uk   \n",
      "Mee                        mee.lapinski@yahoo.com   \n",
      "Peter                   peter_gutierres@yahoo.com   \n",
      "Octavio               octavio.salvadore@yahoo.com   \n",
      "Martha                     mteplica@teplica.co.uk   \n",
      "Tamesha                      tveigel@veigel.co.uk   \n",
      "Tess                       tess_sitra@hotmail.com   \n",
      "Leonard                      lkufner@kufner.co.uk   \n",
      "Svetlana             svetlana_tauras@tauras.co.uk   \n",
      "Pok                                 pok@yahoo.com   \n",
      "Augustine       augustine.growcock@growcock.co.uk   \n",
      "Karma                           kquarto@gmail.com   \n",
      "...                                           ...   \n",
      "Tony                               tony@gmail.com   \n",
      "Val                                 val@yahoo.com   \n",
      "Mel                        mel.picciuto@gmail.com   \n",
      "Isabella     isabella_piatkowski@piatkowski.co.uk   \n",
      "Erasmo                    erasmo_rhea@hotmail.com   \n",
      "Ivory                           ivory@hotmail.com   \n",
      "Nikita                         nwalka@hotmail.com   \n",
      "Aleta                    aleta_ligons@hotmail.com   \n",
      "Owen                   owen_jentzen@jentzen.co.uk   \n",
      "Pauline                        pfling@fling.co.uk   \n",
      "Tijuana                tijuana.machalek@gmail.com   \n",
      "Ahmad                     ahmad.alsaqri@yahoo.com   \n",
      "Jamika                 jamika_conoly@conoly.co.uk   \n",
      "Derrick                 derrick_dolloff@gmail.com   \n",
      "Jacquelyne           jacquelyne_reibman@yahoo.com   \n",
      "Zachary       zachary.freeburger@freeburger.co.uk   \n",
      "Sophia                 sophia.gaucher@hotmail.com   \n",
      "Isabelle                  isabelle.kono@yahoo.com   \n",
      "Ronnie                       ronnie@brigman.co.uk   \n",
      "Krystina             kschlabaugh@schlabaugh.co.uk   \n",
      "Rosita                     rausdemore@hotmail.com   \n",
      "Huey                         hstancil@hotmail.com   \n",
      "Elbert                         elbert@hotmail.com   \n",
      "Pura                       pura.manciel@yahoo.com   \n",
      "Alesia                     alesia_katie@gmail.com   \n",
      "Avery                            avery@veit.co.uk   \n",
      "Reid                       reuresti@euresti.co.uk   \n",
      "Charlette                cbrenning@brenning.co.uk   \n",
      "Celestina               celestina_keeny@gmail.com   \n",
      "Mi                                 mi@hotmail.com   \n",
      "\n",
      "                                                      web  \n",
      "first_name                                                 \n",
      "Aleshia              http://www.alandrosenburgcpapc.co.uk  \n",
      "Evan                    http://www.capgeminiamerica.co.uk  \n",
      "France                   http://www.elliottjohnwesq.co.uk  \n",
      "Ulysses                      http://www.mcmahanbenl.co.uk  \n",
      "Tyisha                     http://www.champagneroom.co.uk  \n",
      "Eric                 http://www.thompsonmichaelcesq.co.uk  \n",
      "Marg             http://www.wranglehillautoauctslvg.co.uk  \n",
      "Laquita              http://www.incommunicationsinc.co.uk  \n",
      "Lura                       http://www.bizerbausainc.co.uk  \n",
      "Yuette                          http://www.maxvideo.co.uk  \n",
      "Fernanda                 http://www.krassociatesinc.co.uk  \n",
      "Charlesetta                 http://www.cainjohnmesq.co.uk  \n",
      "Corrinne                 http://www.soundvisioncorp.co.uk  \n",
      "Niesha              http://www.rowleyhansellpetetin.co.uk  \n",
      "Rueben       http://www.industrialengineeringassocs.co.uk  \n",
      "Michell                  http://www.weissspirtguyer.co.uk  \n",
      "Edgar                  http://www.crowankennethwesq.co.uk  \n",
      "Dewitt                http://www.rittenhousemotorco.co.uk  \n",
      "Charisse              http://www.modernplasticscorp.co.uk  \n",
      "Mee                http://www.gallowayelectriccoinc.co.uk  \n",
      "Peter            http://www.niagaracustombuiltmfgco.co.uk  \n",
      "Octavio              http://www.practicalperiphrals.co.uk  \n",
      "Martha                http://www.curtinpatriciamesq.co.uk  \n",
      "Tamesha                  http://www.wilhelmjamesejr.co.uk  \n",
      "Tess                          http://www.smartsigns.co.uk  \n",
      "Leonard        http://www.arcticstardistributinginc.co.uk  \n",
      "Svetlana            http://www.lensbowergregorylesq.co.uk  \n",
      "Pok                  http://www.portalmetalproducts.co.uk  \n",
      "Augustine                 http://www.lynemacliffcpa.co.uk  \n",
      "Karma                       http://www.jcsmachinery.co.uk  \n",
      "...                                                   ...  \n",
      "Tony                    http://www.dillingharrisinc.co.uk  \n",
      "Val                   http://www.horizonairmagazine.co.uk  \n",
      "Mel                        http://www.avantelimited.co.uk  \n",
      "Isabella               http://www.millerwilliameiii.co.uk  \n",
      "Erasmo                   http://www.martinmorrissey.co.uk  \n",
      "Ivory                      http://www.autobodycolor.co.uk  \n",
      "Nikita                    http://www.fredanthonyesq.co.uk  \n",
      "Aleta               http://www.advantagebookkeeping.co.uk  \n",
      "Owen                 http://www.capitalfastenersinc.co.uk  \n",
      "Pauline         http://www.cumberlandvacuumproducts.co.uk  \n",
      "Tijuana               http://www.schwartzthomaseesq.co.uk  \n",
      "Ahmad          http://www.allianceconstructioncoinc.co.uk  \n",
      "Jamika                    http://www.kellerraymondc.co.uk  \n",
      "Derrick            http://www.prototekmanufacturing.co.uk  \n",
      "Jacquelyne             http://www.greatclipsforhair.co.uk  \n",
      "Zachary                   http://www.countrykitchen.co.uk  \n",
      "Sophia                     http://www.tcesystemsinc.co.uk  \n",
      "Isabelle       http://www.rockspringspetroleumequip.co.uk  \n",
      "Ronnie                     http://www.howardjohnson.co.uk  \n",
      "Krystina             http://www.harrisoldsmobileinc.co.uk  \n",
      "Rosita                    http://www.jurdemscottesq.co.uk  \n",
      "Huey                        http://www.lindnerfunds.co.uk  \n",
      "Elbert                  http://www.donaldgnelsonesq.co.uk  \n",
      "Pura                       http://www.ciainspection.co.uk  \n",
      "Alesia            http://www.nelsonstrmtpestcntrlco.co.uk  \n",
      "Avery           http://www.plazagourmetdelicatessen.co.uk  \n",
      "Reid                   http://www.fitzgeraldedwardj.co.uk  \n",
      "Charlette                http://www.fureyassociates.co.uk  \n",
      "Celestina          http://www.bfgfederalcreditunion.co.uk  \n",
      "Mi            http://www.nelsonwrighthaworthgolfcrs.co.uk  \n",
      "\n",
      "[500 rows x 10 columns]\n"
     ]
    },
    {
     "name": "stderr",
     "output_type": "stream",
     "text": [
      "C:\\ProgramData\\Anaconda3.5\\lib\\site-packages\\ipykernel_launcher.py:8: FutureWarning: from_csv is deprecated. Please use read_csv(...) instead. Note that some of the default arguments are different, so please refer to the documentation for from_csv when changing your function calls\n",
      "  \n"
     ]
    }
   ],
   "source": [
    "'''\n",
    "    Task 12:\n",
    "        CSV to Dataframe (from_csv)\n",
    "        \n",
    "'''\n",
    "print('Task 12:')  \n",
    "#df = df.from_csv(path, header, sep, index_col, parse_dates, encoding, tupleize_cols, infer_datetime_format)\n",
    "df = pd.DataFrame.from_csv('uk-500.csv')\n",
    "print(df)"
   ]
  },
  {
   "cell_type": "code",
   "execution_count": 21,
   "metadata": {},
   "outputs": [
    {
     "name": "stdout",
     "output_type": "stream",
     "text": [
      "Task 13:\n",
      "(9, 3)\n",
      "   capacity  score\n",
      "0         1     10\n",
      "1         2     20\n",
      "2         3     30\n",
      "3         3     40\n"
     ]
    }
   ],
   "source": [
    "'''\n",
    "    Task 13:\n",
    "        first 4 rows of CSV\n",
    "        \n",
    "'''\n",
    "print('Task 13:') \n",
    "df = pandas.read_csv('data1.csv', sep=',')\n",
    "print(df.shape) \n",
    "#print(df[2:14])\n",
    "print(df.iloc[0:4,0:2])\n",
    "#print(df[df.columns[0]])"
   ]
  },
  {
   "cell_type": "code",
   "execution_count": 22,
   "metadata": {},
   "outputs": [
    {
     "name": "stdout",
     "output_type": "stream",
     "text": [
      "Task 14:\n",
      "(7, 5)\n",
      "  student  language  science\n",
      "0   kumar        90       56\n",
      "2   sammy        90       23\n",
      "4   peter        30       56\n",
      "6  carrol        50       90\n"
     ]
    }
   ],
   "source": [
    "'''\n",
    "    Task 14:\n",
    "        show even rows and first three columns\n",
    "        \n",
    "        \n",
    "'''\n",
    "print('Task 14:') \n",
    "df = pandas.read_csv('abc.csv', sep=',', encoding = \"utf-8\")\n",
    "print(df.shape)\n",
    "#print(df) \n",
    "#print(df[2:14])\n",
    "print(df.iloc[::2, 0:3])    \n",
    "#print(df.iloc[::1, 0:3])\n",
    "#print(df[df.columns[0]])    "
   ]
  },
  {
   "cell_type": "code",
   "execution_count": 23,
   "metadata": {},
   "outputs": [
    {
     "name": "stdout",
     "output_type": "stream",
     "text": [
      "Task 15:\n",
      "(7, 5)\n",
      "  student  language  science  maths  history\n",
      "0   kumar        90       56     34       34\n",
      "1   kevin        10       34     32       67\n",
      "2   sammy        90       23     12       32\n",
      "3  janice        20       67     90       45\n",
      "4   peter        30       56     45       65\n",
      "5    prem        90       45     45       34\n",
      "6  carrol        50       90     45       23\n",
      "  student  language  science  maths  history  total\n",
      "0   kumar        90       56     34       34    214\n",
      "1   kevin        10       34     32       67    143\n",
      "2   sammy        90       23     12       32    157\n",
      "3  janice        20       67     90       45    222\n",
      "4   peter        30       56     45       65    196\n",
      "5    prem        90       45     45       34    214\n",
      "6  carrol        50       90     45       23    208\n"
     ]
    }
   ],
   "source": [
    "'''\n",
    "    Task 15:\n",
    "        \n",
    "        New columns as sum of all\n",
    "        \n",
    "'''\n",
    "print('Task 15:') \n",
    "df = pandas.read_csv('abc.csv', sep=',', encoding = \"utf-8\")\n",
    "print(df.shape)\n",
    "print(df) \n",
    "df['total'] = df.sum(axis=1)\n",
    "\n",
    "print(df)\n",
    "#print(df[2:14])\n",
    "#print(df.iloc[:,0:2])\n",
    "#print(df[df.columns[0]]) "
   ]
  },
  {
   "cell_type": "code",
   "execution_count": 24,
   "metadata": {},
   "outputs": [
    {
     "name": "stdout",
     "output_type": "stream",
     "text": [
      "Task 16:\n",
      "(7, 5)\n",
      "  student  language  science  maths  history\n",
      "0   kumar        90       56     34       34\n",
      "1   kevin        10       34     32       67\n",
      "2   sammy        90       23     12       32\n",
      "3  janice        20       67     90       45\n",
      "4   peter        30       56     45       65\n",
      "5    prem        90       45     45       34\n",
      "6  carrol        50       90     45       23\n",
      "  student  language  science  maths  history\n",
      "0   kumar        90       56     34       34\n",
      "3  janice        20       67     90       45\n",
      "4   peter        30       56     45       65\n",
      "6  carrol        50       90     45       23\n"
     ]
    }
   ],
   "source": [
    "'''\n",
    "    Task 16:\n",
    "        \n",
    "        Delete Rows of one column where the value is less than 50\n",
    "        \n",
    "        \n",
    "'''\n",
    "print('Task 16:') \n",
    "df = pandas.read_csv('abc.csv', sep=',', encoding = \"utf-8\")\n",
    "print(df.shape)\n",
    "print(df) \n",
    "\n",
    "df = df[df.science > 50]\n",
    "print(df)"
   ]
  },
  {
   "cell_type": "code",
   "execution_count": 25,
   "metadata": {},
   "outputs": [
    {
     "name": "stdout",
     "output_type": "stream",
     "text": [
      "Task 17:\n",
      "(7, 5)\n",
      "  student  language  science  maths  history\n",
      "0   kumar        90       56     34       34\n",
      "1   kevin        10       34     32       67\n",
      "2   sammy        90       23     12       32\n",
      "3  janice        20       67     90       45\n",
      "4   peter        30       56     45       65\n",
      "5    prem        90       45     45       34\n",
      "6  carrol        50       90     45       23\n",
      "  student  language  science  maths  history\n",
      "0   kumar        90       56     34       34\n",
      "3  janice        20       67     90       45\n",
      "4   peter        30       56     45       65\n",
      "6  carrol        50       90     45       23\n"
     ]
    }
   ],
   "source": [
    "'''\n",
    "    Task 17:\n",
    "        \n",
    "        Delete with Query\n",
    "        \n",
    "        Note: Query doesn't work if your column has space in it\n",
    "'''\n",
    "print('Task 17:') \n",
    "df = pandas.read_csv('abc.csv', sep=',', encoding = \"utf-8\")\n",
    "print(df.shape)\n",
    "print(df) \n",
    "\n",
    "df = df.query('science > 45')\n",
    "print(df)"
   ]
  },
  {
   "cell_type": "code",
   "execution_count": 26,
   "metadata": {},
   "outputs": [
    {
     "name": "stdout",
     "output_type": "stream",
     "text": [
      "Task 18:\n",
      "(6, 5)\n",
      "  student  language  science  maths  history\n",
      "0   kumar        90       56     34       34\n",
      "1   kevin        10       34     32       67\n",
      "2   sammy        90       23     12       32\n",
      "3  janice        20       67     90       45\n",
      "4    prem        90       45     45       34\n",
      "5  carrol        50       90     45       23\n"
     ]
    }
   ],
   "source": [
    "'''\n",
    "    Task 18:\n",
    "        \n",
    "        Skip single row\n",
    "        \n",
    "        \n",
    "        \n",
    "'''\n",
    "print('Task 18:') \n",
    "df = pandas.read_csv('abc.csv', sep=',', encoding = \"utf-8\", skiprows=[5])\n",
    "print(df.shape)\n",
    "print(df)"
   ]
  },
  {
   "cell_type": "code",
   "execution_count": 27,
   "metadata": {},
   "outputs": [
    {
     "name": "stdout",
     "output_type": "stream",
     "text": [
      "Task 19:\n",
      "(4, 5)\n",
      "  student  language  science  maths  history\n",
      "0   kevin        10       34     32       67\n",
      "1   sammy        90       23     12       32\n",
      "2  janice        20       67     90       45\n",
      "3    prem        90       45     45       34\n"
     ]
    }
   ],
   "source": [
    "'''\n",
    "    Task 19:\n",
    "        \n",
    "        Skip multiple rows\n",
    "        \n",
    "'''\n",
    "print('Task 19:') \n",
    "df = pandas.read_csv('abc.csv', sep=',', encoding = \"utf-8\", skiprows=[1, 5, 7])\n",
    "print(df.shape)\n",
    "#print(df) \n",
    "\n",
    "#df = df[df[[1]] > 45]\n",
    "print(df)"
   ]
  },
  {
   "cell_type": "code",
   "execution_count": 28,
   "metadata": {},
   "outputs": [
    {
     "name": "stdout",
     "output_type": "stream",
     "text": [
      "Task 20:\n",
      "(7, 5)\n",
      "  student  language  science  maths  history\n",
      "0   kumar        90       56     34       34\n",
      "1   kevin        10       34     32       67\n",
      "2   sammy        90       23     12       32\n",
      "3  janice        20       67     90       45\n",
      "4   peter        30       56     45       65\n",
      "5    prem        90       45     45       34\n",
      "6  carrol        50       90     45       23\n",
      "  student  language  science  maths  history\n",
      "0   kumar        90       56     34       34\n",
      "1   kevin        10       34     32       67\n",
      "2   sammy        90       23     12       32\n",
      "3  janice        20       67     90       45\n",
      "4   peter        30       56     45       65\n",
      "5    prem        90       45     45       34\n",
      "6  carrol        50       90     45       23\n",
      "<class 'str'>\n"
     ]
    }
   ],
   "source": [
    "'''\n",
    "    Task 20:\n",
    "        \n",
    "        Select Column by Index\n",
    "        \n",
    "        Note:\n",
    "            df[[1]] doesn't work in later Pandas\n",
    "        \n",
    "'''\n",
    "print('Task 20:') \n",
    "df = pandas.read_csv('abc.csv', sep=',', encoding = \"utf-8\")\n",
    "print(df.shape)\n",
    "print(df) \n",
    "\n",
    "#df = df[int(df.columns[2]) > 45]\n",
    "print(df)\n",
    "print(type(df.columns[2]))"
   ]
  },
  {
   "cell_type": "code",
   "execution_count": 29,
   "metadata": {},
   "outputs": [
    {
     "name": "stdout",
     "output_type": "stream",
     "text": [
      "Task 21:\n",
      "(6, 5)\n",
      "    kumar  90  56  34  34.1\n",
      "0   kevin  10  34  32    67\n",
      "1   sammy  90  23  12    32\n",
      "2  janice  20  67  90    45\n",
      "3   peter  30  56  45    65\n",
      "4    prem  90  45  45    34\n",
      "5  carrol  50  90  45    23\n",
      "56\n"
     ]
    }
   ],
   "source": [
    "'''\n",
    "    Task 21:\n",
    "        \n",
    "        Skip rows\n",
    "        \n",
    "        Note:\n",
    "            df[[1]] doesn't work in later Pandas\n",
    "        \n",
    "'''\n",
    "print('Task 21:') \n",
    "df = pandas.read_csv('abc.csv', sep=',', encoding = \"utf-8\", skiprows=[0])\n",
    "print(df.shape)\n",
    "print(df) \n",
    "\n",
    "#df = df[int(df.columns[2]) > 45]\n",
    "#print(df)\n",
    "print(df.columns[2])"
   ]
  },
  {
   "cell_type": "code",
   "execution_count": 30,
   "metadata": {},
   "outputs": [
    {
     "name": "stdout",
     "output_type": "stream",
     "text": [
      "Task 22:\n",
      "(3, 2)\n",
      "   0  1\n",
      "0  1  2\n",
      "1  3  4\n",
      "2  5  6\n"
     ]
    }
   ],
   "source": [
    "'''\n",
    "    Task 22:\n",
    "        \n",
    "        String to Dataframe\n",
    "        \n",
    "        Note:\n",
    "            df[[1]] doesn't work in later Pandas\n",
    "        \n",
    "'''\n",
    "print('Task 22:')\n",
    "from io import StringIO\n",
    "\n",
    "s = \"\"\"\n",
    "        1, 2\n",
    "        3, 4\n",
    "        5, 6\n",
    "    \"\"\"\n",
    "\n",
    "df = pd.read_csv(StringIO(s), header=None)\n",
    "\n",
    "print(df.shape)\n",
    "print(df) \n",
    "\n",
    "#df = df[int(df.columns[2]) > 45]\n",
    "#print(df)"
   ]
  },
  {
   "cell_type": "code",
   "execution_count": 31,
   "metadata": {},
   "outputs": [
    {
     "name": "stdout",
     "output_type": "stream",
     "text": [
      "Task 23:\n",
      "(7, 5)\n",
      "  student  language  science  maths  history  sum  max  min  average\n",
      "0   kumar        90       56     34       34  214  214   34       96\n",
      "1   kevin        10       34     32       67  143  143   10       62\n",
      "2   sammy        90       23     12       32  157  157   12       69\n",
      "3  janice        20       67     90       45  222  222   20       98\n",
      "4   peter        30       56     45       65  196  196   30       88\n",
      "5    prem        90       45     45       34  214  214   34       96\n",
      "6  carrol        50       90     45       23  208  208   23       92\n"
     ]
    }
   ],
   "source": [
    "'''\n",
    "    Task 23:\n",
    "        \n",
    "        New columns as max of other columns\n",
    "        \n",
    "        float to int used\n",
    "'''\n",
    "print('Task 23:') \n",
    "df = pandas.read_csv('abc.csv', sep=',', encoding = \"utf-8\")\n",
    "print(df.shape)\n",
    "df['sum'] = df.sum(axis=1)\n",
    "df['max'] = df.max(axis=1)\n",
    "df['min'] = df.min(axis=1)\n",
    "df['average'] = df.mean(axis=1).astype(int)\n",
    "print(df)    "
   ]
  },
  {
   "cell_type": "code",
   "execution_count": 32,
   "metadata": {},
   "outputs": [
    {
     "name": "stdout",
     "output_type": "stream",
     "text": [
      "Task 24:\n",
      "(7, 5)\n",
      "  student  language  science  maths  history  sum  max  min  average  \\\n",
      "0   kumar        90       56     34       34  214  214   34       96   \n",
      "1   kevin        10       34     32       67  143  143   10       62   \n",
      "2   sammy        90       23     12       32  157  157   12       69   \n",
      "3  janice        20       67     90       45  222  222   20       98   \n",
      "4   peter        30       56     45       65  196  196   30       88   \n",
      "5    prem        90       45     45       34  214  214   34       96   \n",
      "6  carrol        50       90     45       23  208  208   23       92   \n",
      "\n",
      "   math_special  \n",
      "0            45  \n",
      "1            31  \n",
      "2            25  \n",
      "3            68  \n",
      "4            45  \n",
      "5            47  \n",
      "6            53  \n"
     ]
    }
   ],
   "source": [
    "'''\n",
    "    Task 24:\n",
    "        \n",
    "        New columns as max of other columns\n",
    "        \n",
    "        float to int used\n",
    "        \n",
    "        Math is considered more, so double the marks for maths\n",
    "'''\n",
    "def apply_math_special(row):\n",
    "    return (row.maths * 2 + row.language / 2 + row.history / 3 + row.science) / 4                \n",
    "\n",
    "print('Task 24:') \n",
    "df = pandas.read_csv('abc.csv', sep=',', encoding = \"utf-8\")\n",
    "print(df.shape)\n",
    "df['sum'] = df.sum(axis=1)\n",
    "df['max'] = df.max(axis=1)\n",
    "df['min'] = df.min(axis=1)\n",
    "df['average'] = df.mean(axis=1).astype(int)\n",
    "df['math_special'] = df.apply(apply_math_special, axis=1).astype(int)\n",
    "print(df)    "
   ]
  },
  {
   "cell_type": "code",
   "execution_count": 33,
   "metadata": {},
   "outputs": [
    {
     "name": "stdout",
     "output_type": "stream",
     "text": [
      "Task 25:\n",
      "(7, 5)\n",
      "  student  language  science  maths  history pass_one\n",
      "0   kumar        90       56     34       34     Pass\n",
      "1   kevin        10       34     32       67     Fail\n",
      "2   sammy        90       23     12       32     Fail\n",
      "3  janice        20       67     90       45     Pass\n",
      "4   peter        30       56     45       65     Pass\n",
      "5    prem        90       45     45       34     Pass\n",
      "6  carrol        50       90     45       23     Pass\n"
     ]
    }
   ],
   "source": [
    "'''\n",
    "    Task 25:\n",
    "        \n",
    "        New columns as max of other columns\n",
    "        \n",
    "        35 marks considered as pass \n",
    "        \n",
    "        If the student fails in math, consider fail\n",
    "        If the student passes in language and science, consider as pass\n",
    "'''\n",
    "def pass_one_subject(row):\n",
    "    if(row.maths > 34):\n",
    "        return 'Pass'\n",
    "    if(row.language > 34 and row.science > 34):\n",
    "        return 'Pass'\n",
    "    \n",
    "    return 'Fail'                \n",
    "\n",
    "print('Task 25:') \n",
    "df = pandas.read_csv('abc.csv', sep=',', encoding = \"utf-8\")\n",
    "print(df.shape)   \n",
    "\n",
    "df['pass_one'] = df.apply(pass_one_subject, axis=1)\n",
    "print(df)"
   ]
  },
  {
   "cell_type": "code",
   "execution_count": 34,
   "metadata": {},
   "outputs": [
    {
     "name": "stdout",
     "output_type": "stream",
     "text": [
      "Task 26:\n",
      "(7, 5)\n",
      "  student  language  science  maths  history\n",
      "0   kumar        90     56.0   34.0       34\n",
      "1   kevin        10      NaN   32.0       67\n",
      "2   sammy        90     23.0   12.0       32\n",
      "3  janice        20      NaN   90.0       45\n",
      "4   peter        30     56.0   45.0       65\n",
      "5    prem        90     45.0    NaN       34\n",
      "6  carrol        50     90.0   45.0       23\n",
      "  student  language  science  maths  history\n",
      "0   kumar        90     56.0   34.0       34\n",
      "1   kevin        10     54.0   32.0       67\n",
      "2   sammy        90     23.0   12.0       32\n",
      "3  janice        20     54.0   90.0       45\n",
      "4   peter        30     56.0   45.0       65\n",
      "5    prem        90     45.0   43.0       34\n",
      "6  carrol        50     90.0   45.0       23\n"
     ]
    }
   ],
   "source": [
    "'''\n",
    "    Task 26:\n",
    "        \n",
    "        fill with average\n",
    "        \n",
    "        df.fillna(df.mean, inplace=True)\n",
    "            this will cause\n",
    "                Fatal Python error: Cannot recover from stack overflow.\n",
    "                Current thread 0x00008324 (most recent call first):\n",
    "'''\n",
    "print('Task 26:') \n",
    "df = pandas.read_csv('abc2.csv', sep=',', encoding = \"utf-8\")\n",
    "print(df.shape)   \n",
    "print(df)\n",
    "df.fillna(df.mean(), inplace=True)\n",
    "\n",
    "#df['pass_one'] = df.apply(pass_one_subject, axis=1)\n",
    "print(df)    "
   ]
  },
  {
   "cell_type": "code",
   "execution_count": 35,
   "metadata": {},
   "outputs": [
    {
     "name": "stdout",
     "output_type": "stream",
     "text": [
      "Task 28:\n",
      "          0         1         2         3         4\n",
      "0       NaN       NaN       NaN       NaN  0.639537\n",
      "1       NaN       NaN       NaN       NaN  0.658660\n",
      "2       NaN       NaN       NaN       NaN  0.862719\n",
      "3  0.875974  0.676573  0.247961  0.459989  0.032578\n",
      "4  0.766880  0.968181  0.035912  0.106954  0.143374\n",
      "5  0.024436  0.712699  0.044866  0.399964  0.477970\n",
      "6  0.164762  0.149409  0.688910  0.389088  0.063072\n",
      "7  0.410628  0.058644  0.350575  0.613522  0.279709\n",
      "8  0.108157  0.674001  0.174866  0.074312  0.823326\n",
      "9  0.479722  0.848397  0.857391  0.736149  0.952309\n",
      "          0         1         2         3         4      test\n",
      "0       NaN       NaN       NaN       NaN  0.639537  0.639537\n",
      "1       NaN       NaN       NaN       NaN  0.658660  0.658660\n",
      "2       NaN       NaN       NaN       NaN  0.862719  0.862719\n",
      "3  0.875974  0.676573  0.247961  0.459989  0.032578  0.740527\n",
      "4  0.766880  0.968181  0.035912  0.106954  0.143374  0.286240\n",
      "5  0.024436  0.712699  0.044866  0.399964  0.477970  0.922799\n",
      "6  0.164762  0.149409  0.688910  0.389088  0.063072  1.141070\n",
      "7  0.410628  0.058644  0.350575  0.613522  0.279709  1.243805\n",
      "8  0.108157  0.674001  0.174866  0.074312  0.823326  1.072504\n",
      "9  0.479722  0.848397  0.857391  0.736149  0.952309  2.545848\n"
     ]
    }
   ],
   "source": [
    "'''\n",
    "    Task 28:\n",
    "        \n",
    "        New columns as sum of all\n",
    "        \n",
    "'''\n",
    "print('Task 28:')\n",
    "df = pd.DataFrame(np.random.rand(10, 5))\n",
    "df.iloc[0:3, 0:4] = np.nan # throw in some na values\n",
    "print(df)\n",
    "df.loc[:, 'test'] = df.iloc[:, 2:].sum(axis=1)\n",
    "print(df)  "
   ]
  },
  {
   "cell_type": "code",
   "execution_count": 36,
   "metadata": {},
   "outputs": [
    {
     "name": "stdout",
     "output_type": "stream",
     "text": [
      "Task 29:\n",
      "(16, 5)\n"
     ]
    }
   ],
   "source": [
    "'''\n",
    "    Task 29:\n",
    "        Unicode issue and fix\n",
    "    \n",
    "'''\n",
    "print('Task 29:') \n",
    "df = pandas.read_csv('score.csv', sep=',', encoding = \"ISO-8859-1\")\n",
    "print(df.shape) \n",
    "#print(df[2:14])\n",
    "#print(df.iloc[:,0:2])\n",
    "#print(df[df.columns[0]])"
   ]
  },
  {
   "cell_type": "code",
   "execution_count": 37,
   "metadata": {},
   "outputs": [
    {
     "name": "stdout",
     "output_type": "stream",
     "text": [
      "Task 27:\n",
      "(3, 4)\n",
      "          A         B         C         D\n",
      "0  0.319515  0.639504  0.817963  0.374177\n",
      "1  0.487329  0.347219  0.585821  0.135083\n",
      "2  0.911735  0.103491  0.214837  0.830412\n",
      "          A         B         C         D\n",
      "0  0.319515  0.639504  0.817963  0.374177\n",
      "1  0.487329  0.347219  0.585821  0.135083\n",
      "2  0.911735  0.103491  0.214837  0.830412\n"
     ]
    }
   ],
   "source": [
    "'''\n",
    "    Task 27:\n",
    "        \n",
    "        fill with average\n",
    "        \n",
    "        df.fillna(df.mean, inplace=True)\n",
    "            this will cause\n",
    "                Fatal Python error: Cannot recover from stack overflow.\n",
    "                Current thread 0x00008324 (most recent call first):\n",
    "'''\n",
    "print('Task 27:') \n",
    "df = pd.DataFrame(np.random.rand(3,4), columns=list(\"ABCD\"))\n",
    "print(df.shape)   \n",
    "print(df)\n",
    "df.fillna(df.mean(), inplace=True)\n",
    "\n",
    "#df['pass_one'] = df.apply(pass_one_subject, axis=1)\n",
    "print(df)   "
   ]
  },
  {
   "cell_type": "code",
   "execution_count": 38,
   "metadata": {},
   "outputs": [
    {
     "name": "stdout",
     "output_type": "stream",
     "text": [
      "Task 30:\n",
      "  capacity,score,length\n",
      "5               7,10,23\n",
      "6               3,20,22\n",
      "7               8,20,11\n",
      "8                2,30,2\n"
     ]
    }
   ],
   "source": [
    "'''\n",
    "    Task 30:\n",
    "        Last 4 rows\n",
    "'''\n",
    "print('Task 30:')  \n",
    "df = pandas.read_csv('data1.csv', sep=';') \n",
    "print(df[-4:])"
   ]
  },
  {
   "cell_type": "code",
   "execution_count": 39,
   "metadata": {},
   "outputs": [
    {
     "name": "stdout",
     "output_type": "stream",
     "text": [
      "Task 31:\n"
     ]
    }
   ],
   "source": [
    "'''\n",
    "    Task 31:\n",
    "        Simple Data analysis\n",
    "\n",
    "'''\n",
    "print('Task 31:')  \n"
   ]
  },
  {
   "cell_type": "code",
   "execution_count": 40,
   "metadata": {},
   "outputs": [
    {
     "name": "stdout",
     "output_type": "stream",
     "text": [
      "Task 32:\n",
      "  capacity,score,length\n",
      "2               3,30,40\n",
      "3               3,40,30\n"
     ]
    }
   ],
   "source": [
    "'''\n",
    "    Task 32:\n",
    "        get 3 and 4th row\n",
    "'''\n",
    "print('Task 32:')  \n",
    "df = pandas.read_csv('data1.csv', sep=';') \n",
    "print(df[2:4])"
   ]
  },
  {
   "cell_type": "code",
   "execution_count": 41,
   "metadata": {},
   "outputs": [
    {
     "name": "stdout",
     "output_type": "stream",
     "text": [
      "Task 33:\n",
      "  capacity,score,length\n",
      "5               7,10,23\n",
      "6               3,20,22\n",
      "7               8,20,11\n"
     ]
    }
   ],
   "source": [
    "'''\n",
    "    Task 33:\n",
    "        Last 4th to 1st\n",
    "'''\n",
    "print('Task 33:')  \n",
    "df = pandas.read_csv('data1.csv', sep=';') \n",
    "print(df[-4:-1])"
   ]
  },
  {
   "cell_type": "code",
   "execution_count": 42,
   "metadata": {},
   "outputs": [
    {
     "name": "stdout",
     "output_type": "stream",
     "text": [
      "Task 34:\n",
      "  capacity,score,length\n",
      "1               2,20,30\n",
      "2               3,30,40\n",
      "3               3,40,30\n",
      "4               2,30,40\n",
      "5               7,10,23\n",
      "6               3,20,22\n",
      "7               8,20,11\n",
      "8                2,30,2\n"
     ]
    }
   ],
   "source": [
    "'''\n",
    "    Task 34:\n",
    "        iloc position slice\n",
    "'''\n",
    "print('Task 34:')  \n",
    "df = pandas.read_csv('data1.csv', sep=';') \n",
    "print(df.iloc[1:9])"
   ]
  },
  {
   "cell_type": "code",
   "execution_count": 43,
   "metadata": {},
   "outputs": [
    {
     "name": "stdout",
     "output_type": "stream",
     "text": [
      "Task 35:\n"
     ]
    }
   ],
   "source": [
    "'''\n",
    "    Task 35:\n",
    "        Loc - iloc - ix - at - iat \n",
    "'''\n",
    "print('Task 35:')  \n",
    "df = pandas.read_csv('data1.csv', sep=';')"
   ]
  },
  {
   "cell_type": "code",
   "execution_count": 44,
   "metadata": {},
   "outputs": [
    {
     "name": "stdout",
     "output_type": "stream",
     "text": [
      "Task 36:\n",
      "1000\n"
     ]
    }
   ],
   "source": [
    "'''\n",
    "    Task 36:\n",
    "        Random data\n",
    "'''\n",
    "print('Task 36:')  \n",
    "def xrange(x):\n",
    "    return iter(range(x))\n",
    "\n",
    "rnd_1  =  [ rn.randrange ( 1 , 20 )  for  x  in  xrange ( 1000 )] \n",
    "rnd_2  =  [ rn.randrange ( 1 , 20 )  for  x  in  xrange ( 1000 )] \n",
    "rnd_3  =  [ rn.randrange ( 1 , 20 )  for  x in  xrange ( 1000 )] \n",
    "date  =  pd . date_range ( '2012-4-10' ,  '2015-1-4' )\n",
    "print(len(date))\n",
    "data  =  pd . DataFrame ({ 'date' : date ,  'rnd_1' :  rnd_1 ,  'rnd_2' :  rnd_2 ,  'rnd_3' :  rnd_3 })"
   ]
  },
  {
   "cell_type": "code",
   "execution_count": 45,
   "metadata": {},
   "outputs": [
    {
     "name": "stdout",
     "output_type": "stream",
     "text": [
      "Task 37:\n",
      "          date  rnd_1  rnd_2  rnd_3\n",
      "0   2012-04-10      4      9      4\n",
      "1   2012-04-11      9     18      3\n",
      "2   2012-04-12      7     16      4\n",
      "3   2012-04-13     12     15     15\n",
      "4   2012-04-14     11     11     19\n",
      "5   2012-04-15     10      3     10\n",
      "6   2012-04-16      7      7      6\n",
      "7   2012-04-17      6      1      1\n",
      "8   2012-04-18      9     16     12\n",
      "9   2012-04-19     16      6     17\n",
      "10  2012-04-20      7      6      6\n",
      "11  2012-04-21     18     19      6\n",
      "12  2012-04-22     19      4     10\n",
      "13  2012-04-23     18     14     13\n",
      "14  2012-04-24      3      5     19\n",
      "15  2012-04-25     12     13     12\n",
      "16  2012-04-26      6      3     16\n",
      "17  2012-04-27      3      4     19\n",
      "18  2012-04-28      5     16     19\n",
      "19  2012-04-29      6      3     12\n",
      "20  2012-04-30     11     10     14\n",
      "21  2012-05-01      9     10     10\n",
      "22  2012-05-02      3     14     18\n",
      "23  2012-05-03      4     18     12\n",
      "24  2012-05-04      2      1     19\n",
      "25  2012-05-05      2      4      2\n",
      "26  2012-05-06     10     18      1\n",
      "27  2012-05-07     19     13      9\n",
      "28  2012-05-08      7     16     17\n",
      "29  2012-05-09     17     14     12\n",
      "..         ...    ...    ...    ...\n",
      "970 2014-12-06     17     12      9\n",
      "971 2014-12-07     17     15      5\n",
      "972 2014-12-08      5     19     17\n",
      "973 2014-12-09     10      1     15\n",
      "974 2014-12-10     13     17      8\n",
      "975 2014-12-11     18     14      2\n",
      "976 2014-12-12     14      3     18\n",
      "977 2014-12-13     13      1      6\n",
      "978 2014-12-14     17     13     12\n",
      "979 2014-12-15      9      3     16\n",
      "980 2014-12-16      5     16     19\n",
      "981 2014-12-17      8      9     13\n",
      "982 2014-12-18     12     13      6\n",
      "983 2014-12-19      1     12      4\n",
      "984 2014-12-20      5     11     16\n",
      "985 2014-12-21     14     15      7\n",
      "986 2014-12-22      4     11     18\n",
      "987 2014-12-23     18      3      3\n",
      "988 2014-12-24     17     17     11\n",
      "989 2014-12-25      8     10     15\n",
      "990 2014-12-26     13      3     19\n",
      "991 2014-12-27     10      7     19\n",
      "992 2014-12-28     19     12     19\n",
      "993 2014-12-29     19     18     19\n",
      "994 2014-12-30     15     15      8\n",
      "995 2014-12-31     11     13     12\n",
      "996 2015-01-01     16      1     15\n",
      "997 2015-01-02     14     11     12\n",
      "998 2015-01-03      9     14     15\n",
      "999 2015-01-04      6      3     15\n",
      "\n",
      "[1000 rows x 4 columns]\n"
     ]
    }
   ],
   "source": [
    "\n",
    "'''\n",
    "    Task 37:\n",
    "    filter with the value comparison\n",
    "'''\n",
    "print('Task 37:')\n",
    "below_20 = data[data['rnd_1'] < 20]    \n",
    "print(below_20)"
   ]
  },
  {
   "cell_type": "code",
   "execution_count": 46,
   "metadata": {},
   "outputs": [
    {
     "name": "stdout",
     "output_type": "stream",
     "text": [
      "Task 38:\n",
      "1000\n"
     ]
    }
   ],
   "source": [
    "'''\n",
    "    Task 38:\n",
    "       Filter between 5 and 10 on col 1 \n",
    "'''\n",
    "print('Task 38:') \n",
    "def xrange(x):\n",
    "    return iter(range(x))\n",
    "rnd_1  =  [ rn.randrange ( 1 , 20 )  for  x  in  xrange ( 1000 )] \n",
    "rnd_2  =  [ rn.randrange ( 1 , 20 )  for  x  in  xrange ( 1000 )] \n",
    "rnd_3  =  [ rn.randrange ( 1 , 20 )  for  x in  xrange ( 1000 )] \n",
    "date  =  pd . date_range ( '2012-4-10' ,  '2015-1-4' )\n",
    "print(len(date))\n",
    "data  =  pd . DataFrame ({ 'date' : date ,  'rnd_1' :  rnd_1 ,  'rnd_2' :  rnd_2 ,  'rnd_3' :  rnd_3 })\n",
    "below_20 = data[data['rnd_1'] < 20]\n",
    "ten_to_20 = data[(data['rnd_1'] >= 5) & (data['rnd_1'] < 10)]\n",
    "#print(ten_to_20) "
   ]
  },
  {
   "cell_type": "code",
   "execution_count": 47,
   "metadata": {},
   "outputs": [
    {
     "name": "stdout",
     "output_type": "stream",
     "text": [
      "Task 39:\n",
      "         date  rnd_1  rnd_2  rnd_3\n",
      "0  2018-08-01     16     18      6\n",
      "1  2018-08-02     16      2      3\n",
      "3  2018-08-04     16     18     19\n",
      "4  2018-08-05     15      5     15\n",
      "6  2018-08-07     16     10     17\n",
      "10 2018-08-11     16     17      8\n",
      "14 2018-08-15     17      9     15\n"
     ]
    }
   ],
   "source": [
    "'''\n",
    "    Task 39:\n",
    "        15 to 20\n",
    "        \n",
    "'''\n",
    "print('Task 39:')      \n",
    "date  =  pd . date_range ( '2018-08-01' ,  '2018-08-15' )\n",
    "date_count = len(date)\n",
    "\n",
    "def fill_rand(start, end, count):\n",
    "    return [rn.randrange(1, 20 ) for x in xrange( count )]\n",
    "\n",
    "rnd_1 = fill_rand(1, 20, date_count) \n",
    "rnd_2 = fill_rand(1, 20, date_count) \n",
    "rnd_3 = fill_rand(1, 20, date_count)\n",
    "#print(len(date))\n",
    "data  =  pd . DataFrame ({ 'date' : date ,  'rnd_1' :  rnd_1 ,  'rnd_2' :  rnd_2 ,  'rnd_3' :  rnd_3 })\n",
    "#print(len(date))\n",
    "ten_to_20 = data[(data['rnd_1'] >= 15) & (data['rnd_1'] < 20)]\n",
    "print(ten_to_20) "
   ]
  },
  {
   "cell_type": "code",
   "execution_count": 48,
   "metadata": {},
   "outputs": [
    {
     "name": "stdout",
     "output_type": "stream",
     "text": [
      "Task 40:\n",
      "        date  rnd_1  rnd_2  rnd_3\n",
      "1 2018-08-02     16     16      2\n",
      "5 2018-08-06     17     16      1\n",
      "6 2018-08-07     15     15      2\n",
      "8 2018-08-09     16     15     11\n"
     ]
    }
   ],
   "source": [
    "'''\n",
    "    Task 40:\n",
    "        15 to 33\n",
    "        \n",
    "'''\n",
    "print('Task 40:')      \n",
    "date  =  pd . date_range ( '2018-08-01' ,  '2018-08-15' )\n",
    "date_count = len(date)\n",
    "\n",
    "def fill_rand(start, end, count):\n",
    "    return [rn.randrange(1, 20 ) for x in xrange( count )]\n",
    "\n",
    "rnd_1 = fill_rand(1, 20, date_count) \n",
    "rnd_2 = fill_rand(1, 20, date_count) \n",
    "rnd_3 = fill_rand(1, 20, date_count)\n",
    "#print(len(date))\n",
    "data  =  pd . DataFrame ({ 'date' : date ,  'rnd_1' :  rnd_1 ,  'rnd_2' :  rnd_2 ,  'rnd_3' :  rnd_3 })\n",
    "#print(len(date))\n",
    "ten_to_20 = data[(data['rnd_1'] >= 15) & (data['rnd_1'] < 20)]\n",
    "print(ten_to_20) "
   ]
  },
  {
   "cell_type": "code",
   "execution_count": 49,
   "metadata": {},
   "outputs": [
    {
     "name": "stdout",
     "output_type": "stream",
     "text": [
      "Task 41:\n",
      "   rnd_2       date\n",
      "2     12 2018-08-03\n",
      "3      2 2018-08-04\n",
      "4     12 2018-08-05\n"
     ]
    }
   ],
   "source": [
    "'''\n",
    "    Task 41:\n",
    "    set index\n",
    "    \n",
    "'''\n",
    "print('Task 41:')  \n",
    "date  =  pd . date_range ( '2018-08-01' ,  '2018-08-15' )\n",
    "date_count = len(date)\n",
    "\n",
    "def xrange(x):\n",
    "    return iter(range(x))\n",
    "\n",
    "def fill_rand(start, end, count):\n",
    "    return [rn.randrange(1, 20 ) for x in xrange( count )]\n",
    "\n",
    "rnd_1 = fill_rand(1, 20, date_count) \n",
    "rnd_2 = fill_rand(1, 20, date_count) \n",
    "rnd_3 = fill_rand(1, 20, date_count)\n",
    "#print(len(date))\n",
    "data  =  pd . DataFrame ({ 'date' : date ,  'rnd_1' :  rnd_1 ,  'rnd_2' :  rnd_2 ,  'rnd_3' :  rnd_3 })\n",
    "filter_loc = data.loc[ 2 : 4 ,  [ 'rnd_2' ,  'date' ]]\n",
    "print(filter_loc)"
   ]
  },
  {
   "cell_type": "code",
   "execution_count": 50,
   "metadata": {},
   "outputs": [
    {
     "name": "stdout",
     "output_type": "stream",
     "text": [
      "Task 42:\n",
      "            rnd_1  rnd_2  rnd_3\n",
      "date                           \n",
      "2018-08-01     14      3     14\n",
      "2018-08-02     11      2     18\n",
      "2018-08-03      7     12     11\n",
      "2018-08-04      9      2      7\n",
      "2018-08-05     16     12      2\n"
     ]
    }
   ],
   "source": [
    "'''\n",
    "    Task 42:\n",
    "       \n",
    "'''\n",
    "print('Task 42:')\n",
    "date_date = data.set_index( 'date' ) \n",
    "print(date_date.head())  "
   ]
  },
  {
   "cell_type": "code",
   "execution_count": 51,
   "metadata": {},
   "outputs": [
    {
     "name": "stdout",
     "output_type": "stream",
     "text": [
      "Task 43:\n",
      "   a  b   c\n",
      "0  1  9  11\n",
      "1  2  8  12\n",
      "2  3  7  13\n",
      "3  4  6  14\n",
      "changing on one column\n",
      "   a  b   c\n",
      "0  1  9  11\n",
      "1  2  9  12\n",
      "2  3  9  13\n",
      "3  4  9  14\n"
     ]
    }
   ],
   "source": [
    "'''\n",
    "    Task 43:\n",
    "        Change columns based on other columns\n",
    "'''\n",
    "print('Task 43:') \n",
    "df = pd.DataFrame({\n",
    "    'a' : [1,2,3,4], \n",
    "    'b' : [9,8,7,6],\n",
    "    'c' : [11,12,13,14]\n",
    "});\n",
    "print(df) \n",
    "\n",
    "print('changing on one column')\n",
    "# Change columns\n",
    "df.loc[df.a >= 2,'b'] = 9\n",
    "print(df)"
   ]
  },
  {
   "cell_type": "code",
   "execution_count": 52,
   "metadata": {},
   "outputs": [
    {
     "name": "stdout",
     "output_type": "stream",
     "text": [
      "Task 44:\n",
      "changing on multipe columns\n",
      "   a   b   c\n",
      "0  1   9  11\n",
      "1  2   9  12\n",
      "2  3  45  45\n",
      "3  4  45  45\n"
     ]
    }
   ],
   "source": [
    "'''\n",
    "    Task 44:\n",
    "    Change multiple columns based on one column values   \n",
    "'''\n",
    "print('Task 44:')  \n",
    "print('changing on multipe columns')\n",
    "df.loc[df.a > 2,['b', 'c']] = 45\n",
    "print(df)"
   ]
  },
  {
   "cell_type": "code",
   "execution_count": 53,
   "metadata": {},
   "outputs": [
    {
     "name": "stdout",
     "output_type": "stream",
     "text": [
      "Task 45:\n",
      "   a   b   c\n",
      "0  1   9  11\n",
      "1  2   9  12\n",
      "2  3  45  45\n",
      "3  4  45  45\n",
      "   a     b     c\n",
      "0  1 -1000    11\n",
      "1  2 -1000 -1000\n",
      "2  3 -1000    45\n",
      "3  4 -1000 -1000\n"
     ]
    }
   ],
   "source": [
    "'''\n",
    "    Task 45:\n",
    "        Pandas Mask\n",
    "'''\n",
    "print('Task 45:')  \n",
    "print(df)\n",
    "df_mask = pd.DataFrame({\n",
    "    'a' : [True] * 4, \n",
    "    'b' : [False] * 4,\n",
    "    'c' : [True, False] * 2\n",
    "})\n",
    "print(df.where(df_mask,-1000))"
   ]
  },
  {
   "cell_type": "code",
   "execution_count": 54,
   "metadata": {},
   "outputs": [
    {
     "name": "stdout",
     "output_type": "stream",
     "text": [
      "Task 46:\n",
      "   a   b   c\n",
      "0  1   9  11\n",
      "1  2   9  12\n",
      "2  3  45  45\n",
      "3  4  45  45\n",
      "   a   b   c logic\n",
      "0  1   9  11   low\n",
      "1  2   9  12   low\n",
      "2  3  45  45   low\n",
      "3  4  45  45   low\n"
     ]
    }
   ],
   "source": [
    "'''\n",
    "    Task 46:\n",
    "        \n",
    "'''\n",
    "print('Task 46:')\n",
    "print(df)  \n",
    "df['logic'] = np.where(df['a'] > 5, 'high', 'low')\n",
    "print(df)"
   ]
  },
  {
   "cell_type": "code",
   "execution_count": 55,
   "metadata": {},
   "outputs": [
    {
     "name": "stdout",
     "output_type": "stream",
     "text": [
      "Task 47:\n",
      "   Language  Math  Science\n",
      "0        60    90       45\n",
      "1        45    80       90\n",
      "2        78    23       95\n",
      "3         4    60       20\n",
      "   Language  Math  Science language_grade math_grade science_grade\n",
      "0        60    90       45           Pass       Pass          Fail\n",
      "1        45    80       90           Fail       Pass          Pass\n",
      "2        78    23       95           Pass       Fail          Pass\n",
      "3         4    60       20           Fail       Pass          Fail\n"
     ]
    }
   ],
   "source": [
    "'''\n",
    "    Task 47:\n",
    "        Student Marks (Pass or Fail)\n",
    "'''\n",
    "print('Task 47:')\n",
    "marks_df = pd.DataFrame({\n",
    "    'Language' : [60, 45, 78, 4], \n",
    "    'Math' : [90, 80, 23, 60],\n",
    "    'Science' : [45, 90, 95, 20]\n",
    "});\n",
    "print(marks_df)\n",
    "marks_df['language_grade'] = np.where(marks_df['Language'] >= 50, 'Pass', 'Fail')\n",
    "marks_df['math_grade'] = np.where(marks_df['Math'] >= 50, 'Pass', 'Fail')\n",
    "marks_df['science_grade'] = np.where(marks_df['Science'] >= 50, 'Pass', 'Fail')\n",
    "print(marks_df)"
   ]
  },
  {
   "cell_type": "code",
   "execution_count": 56,
   "metadata": {},
   "outputs": [
    {
     "name": "stdout",
     "output_type": "stream",
     "text": [
      "Task 48:\n",
      "   Language  Math  Science\n",
      "0        60    90       45\n",
      "1        45    80       90\n",
      "2        78    23       95\n",
      "3         4    60       20\n",
      "   Language  Math  Science\n",
      "0        60    90       45\n",
      "2        78    23       95\n"
     ]
    }
   ],
   "source": [
    "'''\n",
    "    Actors by age and movies acted\n",
    "'''\n",
    "\n",
    "\n",
    "'''\n",
    "    Task 48:\n",
    "        Get passed grades\n",
    "'''\n",
    "print('Task 48:')  \n",
    "marks_df = pd.DataFrame({\n",
    "    'Language' : [60, 45, 78, 4], \n",
    "    'Math' : [90, 80, 23, 60],\n",
    "    'Science' : [45, 90, 95, 20]\n",
    "});\n",
    "print(marks_df)\n",
    "marks_df_passed_in_language = marks_df[marks_df.Language >=50 ]\n",
    "print(marks_df_passed_in_language)"
   ]
  },
  {
   "cell_type": "code",
   "execution_count": 57,
   "metadata": {},
   "outputs": [
    {
     "name": "stdout",
     "output_type": "stream",
     "text": [
      "Task 49:\n",
      "   Language  Math  Science\n",
      "0        60    90       45\n"
     ]
    }
   ],
   "source": [
    "'''\n",
    "    Task 49:\n",
    "        Students passed in Language and Math\n",
    "        \n",
    "'''\n",
    "print('Task 49:')  \n",
    "marks_df_passed_in_lang_math = marks_df[(marks_df.Language >=50) & (marks_df.Math >= 50)]\n",
    "print(marks_df_passed_in_lang_math)"
   ]
  },
  {
   "cell_type": "code",
   "execution_count": 58,
   "metadata": {},
   "outputs": [
    {
     "name": "stdout",
     "output_type": "stream",
     "text": [
      "Task 50:\n",
      "   Language  Math  Science\n",
      "2        78    23       95\n"
     ]
    }
   ],
   "source": [
    "\n",
    "'''\n",
    "    Task 50:\n",
    "        Students passed in Language and Science\n",
    "'''\n",
    "print('Task 50:')  \n",
    "marks_df_passed_in_lang_and_sc = marks_df.loc[(marks_df.Language >=50) & (marks_df.Science >= 50)]\n",
    "print(marks_df_passed_in_lang_and_sc)"
   ]
  },
  {
   "cell_type": "code",
   "execution_count": 59,
   "metadata": {},
   "outputs": [
    {
     "name": "stdout",
     "output_type": "stream",
     "text": [
      "Task 51:\n",
      "         age  movies  awards\n",
      "dhanush   31      51      42\n",
      "simbu     23      23      12\n",
      "kamal     65      87       4\n",
      "vikram    50     200      78\n"
     ]
    }
   ],
   "source": [
    "'''\n",
    "    Task 51:\n",
    "        Loc with Label oriented slicing\n",
    "        \n",
    "        possible error:\n",
    "        pandas.errors.UnsortedIndexError\n",
    "'''\n",
    "print('Task 51:')\n",
    "stars = {\n",
    "    'age' : [31, 23, 65, 50],\n",
    "    'movies' : [51, 23, 87, 200],\n",
    "    'awards' : [42, 12, 4, 78]\n",
    "    }\n",
    "star_names = ['dhanush', 'simbu', 'kamal', 'vikram']\n",
    "stars_df = pd.DataFrame(data=stars, index=[star_names])\n",
    "print(stars_df)"
   ]
  },
  {
   "cell_type": "code",
   "execution_count": 60,
   "metadata": {},
   "outputs": [
    {
     "name": "stdout",
     "output_type": "stream",
     "text": [
      "Task 52:\n",
      "       age  movies  awards\n",
      "simbu   23      23      12\n",
      "kamal   65      87       4\n"
     ]
    }
   ],
   "source": [
    "'''\n",
    "    Task 52:\n",
    "        iloc with positional slicing\n",
    "'''\n",
    "print('Task 52:')  \n",
    "print(stars_df.iloc[1:3])"
   ]
  },
  {
   "cell_type": "code",
   "execution_count": 61,
   "metadata": {},
   "outputs": [
    {
     "name": "stdout",
     "output_type": "stream",
     "text": [
      "Task 40:\n",
      "    one  two\n",
      "12   10    2\n",
      "14   50    6\n",
      "16   80   56\n",
      "18   40   45\n",
      "label between 12 and 16\n",
      "    one  two\n",
      "12   10    2\n",
      "14   50    6\n",
      "16   80   56\n",
      "index between 1 and 3\n",
      "    one  two\n",
      "14   50    6\n",
      "16   80   56\n"
     ]
    }
   ],
   "source": [
    "'''\n",
    "    Task 53:\n",
    "        stars with names\n",
    "'''\n",
    "print('Task 40:')  \n",
    "numbers = pd.DataFrame({\n",
    "        'one' : [10, 50, 80, 40],\n",
    "        'two' : [2, 6, 56, 45]\n",
    "    },\n",
    "    index = [12, 14, 16, 18])\n",
    "print(numbers)\n",
    "\n",
    "print('label between 12 and 16')\n",
    "print(numbers.loc[12:16])\n",
    "\n",
    "print('index between 1 and 3')\n",
    "print(numbers.iloc[1:3])\n"
   ]
  },
  {
   "cell_type": "code",
   "execution_count": 62,
   "metadata": {},
   "outputs": [
    {
     "name": "stdout",
     "output_type": "stream",
     "text": [
      "Task 54:\n",
      "    one  two\n",
      "12   10    2\n",
      "14   50    6\n",
      "16   80   56\n",
      "18   40   45\n"
     ]
    }
   ],
   "source": [
    "'''\n",
    "    Task 54:\n",
    "        stars with names\n",
    "'''\n",
    "print('Task 54:') \n",
    "stars = {\n",
    "    'age' : [31, 23, 65, 50],\n",
    "    'movies' : [51, 23, 87, 200],\n",
    "    'awards' : [42, 12, 4, 78]\n",
    "    }\n",
    "star_names = ['dhanush', 'simbu', 'kamal', 'vikram']\n",
    "stars_df = pd.DataFrame(data=stars, index=[star_names])\n",
    "numbers = pd.DataFrame({\n",
    "        'one' : [10, 50, 80, 40],\n",
    "        'two' : [2, 6, 56, 45]\n",
    "    },\n",
    "    index = [12, 14, 16, 18])\n",
    "print(numbers)"
   ]
  },
  {
   "cell_type": "code",
   "execution_count": 63,
   "metadata": {},
   "outputs": [
    {
     "name": "stdout",
     "output_type": "stream",
     "text": [
      "Task 55:\n",
      "         age  movies  awards\n",
      "dhanush   31      51      42\n",
      "kamal     65      87       4\n",
      "vikram    50     200      78\n"
     ]
    }
   ],
   "source": [
    "'''\n",
    "    Task 55:\n",
    "        Row label selection\n",
    "        Age is above 25 and movies above 25\n",
    "'''\n",
    "print('Task 55:')\n",
    "\n",
    "age_movies_25 = stars_df[(stars_df.movies > 25 ) & (stars_df.age > 25)]  \n",
    "print(age_movies_25)"
   ]
  },
  {
   "cell_type": "code",
   "execution_count": 64,
   "metadata": {},
   "outputs": [
    {
     "name": "stdout",
     "output_type": "stream",
     "text": [
      "Task 56:\n",
      "         age  movies  awards\n",
      "dhanush   31      51      42\n",
      "kamal     65      87       4\n"
     ]
    }
   ],
   "source": [
    "'''\n",
    "    Task 56:\n",
    "        stars in in certain ages\n",
    "'''\n",
    "print('Task 56:')  \n",
    "custom_stars = stars_df[stars_df.age.isin([31, 65])]\n",
    "print(custom_stars)"
   ]
  },
  {
   "cell_type": "code",
   "execution_count": 65,
   "metadata": {},
   "outputs": [
    {
     "name": "stdout",
     "output_type": "stream",
     "text": [
      "Task 57:\n",
      "    one  two\n",
      "12   10    2\n",
      "14   50    6\n",
      "16   80   56\n",
      "18   40   45\n",
      "    one  two\n",
      "12   10    2\n",
      "16   80   56\n",
      "18   40   45\n"
     ]
    }
   ],
   "source": [
    "'''\n",
    "    Task 57:\n",
    "        inverse opeartor\n",
    "           !( above one.45 and below two.50 ) \n",
    "           \n",
    "    \n",
    "'''\n",
    "print('Task 57:')  \n",
    "print(numbers)\n",
    "print(numbers[~( (numbers.one > 45) & (numbers.two < 50) )])"
   ]
  },
  {
   "cell_type": "code",
   "execution_count": 66,
   "metadata": {},
   "outputs": [
    {
     "name": "stdout",
     "output_type": "stream",
     "text": [
      "Task 58:\n"
     ]
    }
   ],
   "source": [
    "'''\n",
    "    Task 58:\n",
    "        Extend a panal frame by transposing\n",
    "        \n",
    "'''\n",
    "print('Task 58:')  "
   ]
  },
  {
   "cell_type": "code",
   "execution_count": 67,
   "metadata": {},
   "outputs": [
    {
     "name": "stdout",
     "output_type": "stream",
     "text": [
      "Task 59:\n"
     ]
    }
   ],
   "source": [
    "'''\n",
    "    Task 59:\n",
    "        adding a new dimension\n",
    "'''\n",
    "print('Task 59:')  "
   ]
  },
  {
   "cell_type": "code",
   "execution_count": 68,
   "metadata": {},
   "outputs": [
    {
     "name": "stdout",
     "output_type": "stream",
     "text": [
      "Task 60:\n",
      "   a  b\n",
      "0  1  2\n",
      "1  1  1\n",
      "2  2  3\n",
      "3  4  4\n",
      "Index(['a', 'b'], dtype='object')\n",
      "   a  b a_side b_side\n",
      "0  1  2  North   East\n",
      "1  1  1  North  North\n",
      "2  2  3   East  South\n",
      "3  4  4   West   West\n"
     ]
    }
   ],
   "source": [
    "'''\n",
    "    Task 60:\n",
    "        Creating new Columns using Applymap\n",
    "        Sides & applymap\n",
    "'''\n",
    "print('Task 60:')\n",
    "sides_df = pd.DataFrame({\n",
    "    'a' : [1, 1, 2, 4],\n",
    "    'b' : [2, 1, 3, 4]\n",
    "    })  \n",
    "print(sides_df)\n",
    "source_cols = sides_df.columns\n",
    "print(source_cols)\n",
    "new_cols = [str(x)+\"_side\" for x in source_cols]\n",
    "side_category = {\n",
    "    1 : 'North',\n",
    "    2 : 'East',\n",
    "    3 : 'South', \n",
    "    4 : 'West'\n",
    "    }\n",
    "sides_df[new_cols] = sides_df[source_cols].applymap(side_category.get)\n",
    "print(sides_df)"
   ]
  },
  {
   "cell_type": "code",
   "execution_count": 69,
   "metadata": {},
   "outputs": [
    {
     "name": "stdout",
     "output_type": "stream",
     "text": [
      "Task 61:\n",
      "   A  B\n",
      "0  1  1\n",
      "1  1 -1\n",
      "2  2  1\n",
      "3  2  2\n",
      "     B\n",
      "0  1.0\n",
      "1  1.0\n",
      "2  1.0\n",
      "3  2.0\n"
     ]
    }
   ],
   "source": [
    "'''\n",
    "    Task 61:\n",
    "        Replacing some values with mean of the rest of a group\n",
    "'''\n",
    "print('Task 61:')  \n",
    "df = pd.DataFrame({'A' : [1, 1, 2, 2], 'B' : [1, -1, 1, 2]})\n",
    "print(df)\n",
    "\n",
    "gb = df.groupby('A')\n",
    "\n",
    "def replace(g):\n",
    "    mask = g < 0\n",
    "    g.loc[mask] = g[~mask].mean()\n",
    "    return g\n",
    "\n",
    "gbt = gb.transform(replace)\n",
    "\n",
    "print(gbt)"
   ]
  },
  {
   "cell_type": "code",
   "execution_count": 70,
   "metadata": {},
   "outputs": [
    {
     "name": "stdout",
     "output_type": "stream",
     "text": [
      "Task 62:\n",
      "   Language  Math  Science\n",
      "0        60    90       45\n",
      "1        45    80       90\n",
      "2        78    23       95\n",
      "3         4    60       20\n",
      "   Language  Math  Science\n",
      "0        60    90       45\n",
      "1        45    80       90\n",
      "2        78    23       95\n"
     ]
    }
   ],
   "source": [
    "'''\n",
    "    Task 62:\n",
    "        Students passed in Language or Science (any one subject)\n",
    "'''\n",
    "print('Task 62:') \n",
    "marks_df = pd.DataFrame({\n",
    "    'Language' : [60, 45, 78, 4], \n",
    "    'Math' : [90, 80, 23, 60],\n",
    "    'Science' : [45, 90, 95, 20]\n",
    "});\n",
    "print(marks_df)\n",
    "marks_df_passed_in_lang_or_sc = marks_df.loc[(marks_df.Language >=50) | (marks_df.Science >= 50)]\n",
    "print(marks_df_passed_in_lang_or_sc) "
   ]
  },
  {
   "cell_type": "code",
   "execution_count": 71,
   "metadata": {},
   "outputs": [
    {
     "name": "stdout",
     "output_type": "stream",
     "text": [
      "Task 63:\n",
      "   Language  Math  Science passed_one_subject\n",
      "0        60    90       45               Pass\n",
      "1        45    80       90               Fail\n",
      "2        78    23       95               Pass\n",
      "3         4    60       20               Fail\n"
     ]
    }
   ],
   "source": [
    "'''\n",
    "    Task 63:\n",
    "   \n",
    "        possible errors:\n",
    "            TypeError: 'Series' objects are mutable, thus they cannot be hashed\n",
    "    \n",
    "    \n",
    "'''\n",
    "print('Task 63:')  \n",
    "marks_df['passed_one_subject'] = 'Fail' \n",
    "marks_df.loc[(marks_df.Language >=50) , 'passed_one_subject'] = 'Pass'\n",
    "print(marks_df)"
   ]
  },
  {
   "cell_type": "code",
   "execution_count": 72,
   "metadata": {},
   "outputs": [
    {
     "name": "stdout",
     "output_type": "stream",
     "text": [
      "Task 64:\n",
      "    a   b\n",
      "0  24  56\n",
      "1  75  57\n",
      "2  69  32\n",
      "3  13  53\n",
      "4  36   0\n",
      "with argsort\n",
      "    a   b\n",
      "2  69  32\n",
      "1  75  57\n",
      "4  36   0\n",
      "0  24  56\n",
      "3  13  53\n",
      "    a   b\n",
      "4  36   0\n",
      "2  69  32\n",
      "3  13  53\n",
      "0  24  56\n",
      "1  75  57\n"
     ]
    }
   ],
   "source": [
    "'''\n",
    "    Task 64:\n",
    "        argsort\n",
    "        Select rows with data closest to certain value using argsort\n",
    "        \n",
    "'''\n",
    "print('Task 64:')  \n",
    "df = pd.DataFrame({\n",
    "    \"a\": np.random.randint(0, 100, size=(5,)), \n",
    "    \"b\": np.random.randint(0, 70, size=(5,))\n",
    "})\n",
    "print(df)\n",
    "par = 65\n",
    "print('with argsort')\n",
    "df1 = df.loc[(df.a-par).abs().argsort()]\n",
    "print(df1)\n",
    "\n",
    "print(df.loc[(df.b-2).abs().argsort()])"
   ]
  },
  {
   "cell_type": "code",
   "execution_count": 73,
   "metadata": {},
   "outputs": [
    {
     "name": "stdout",
     "output_type": "stream",
     "text": [
      "Task 65:\n",
      "   age  movies\n",
      "1   50       3\n",
      "3   45      45\n",
      "4   65      34\n",
      "2   24      90\n",
      "5   18       2\n",
      "0   17       2\n"
     ]
    }
   ],
   "source": [
    "'''\n",
    "    Task 65:\n",
    "        argsort with stars\n",
    "        \n",
    "        old stars (near by 50 age) argsort\n",
    "'''\n",
    "print('Task 65:')  \n",
    "stars = pd.DataFrame({\n",
    "    \"age\": [17, 50, 24, 45, 65, 18], \n",
    "    \"movies\": [2, 3, 90, 45, 34, 2] \n",
    "})\n",
    "print(stars.loc[(stars.age - 50).abs().argsort()])"
   ]
  },
  {
   "cell_type": "code",
   "execution_count": 74,
   "metadata": {},
   "outputs": [
    {
     "name": "stdout",
     "output_type": "stream",
     "text": [
      "Task 66:\n",
      "   age  movies\n",
      "0   17       2\n",
      "5   18       2\n",
      "2   24      90\n",
      "3   45      45\n",
      "1   50       3\n",
      "4   65      34\n"
     ]
    }
   ],
   "source": [
    "'''\n",
    "    Task 66:\n",
    "        Argsort with actors\n",
    "        young stars (near by 17)\n",
    "'''\n",
    "print('Task 66:')  \n",
    "print(stars.loc[(stars.age - 17).abs().argsort()])"
   ]
  },
  {
   "cell_type": "code",
   "execution_count": 75,
   "metadata": {},
   "outputs": [
    {
     "name": "stdout",
     "output_type": "stream",
     "text": [
      "Task 67:\n",
      "   age  movies\n",
      "0   17      22\n",
      "1   50      33\n",
      "2   24      90\n",
      "3   45      75\n",
      "4   65      34\n",
      "5   18       2\n",
      "Young and more movies acted\n",
      "   age  movies\n",
      "2   24      90\n"
     ]
    }
   ],
   "source": [
    "'''\n",
    "    Task 67:\n",
    "        Binary operators\n",
    "        \n",
    "        Stars with\n",
    "            younger than 19 - very young\n",
    "            more movies acted\n",
    "'''\n",
    "print('Task 67:')\n",
    "stars = pd.DataFrame({\n",
    "    \"age\": [17, 50, 24, 45, 65, 18], \n",
    "    \"movies\": [22, 33, 90, 75, 34, 2] \n",
    "})  \n",
    "print(stars)\n",
    "print('Young and more movies acted')\n",
    "young = stars.age < 30    \n",
    "more_movies = stars.movies > 30\n",
    "young_more = [young, more_movies]\n",
    "young_more_Criteria = functools.reduce(lambda x, y : x & y, young_more)\n",
    "print(stars[young_more_Criteria])"
   ]
  },
  {
   "cell_type": "code",
   "execution_count": 76,
   "metadata": {},
   "outputs": [
    {
     "name": "stdout",
     "output_type": "stream",
     "text": [
      "Task 68:\n",
      "   age  salary  grade\n",
      "0   17      75      7\n",
      "1   50      33      8\n",
      "2   24      90      9\n",
      "3   45     175      2\n",
      "4   65     134      7\n",
      "5   18      78      8\n",
      "Young, Higher Salary, and Higher Position\n",
      "   age  salary  grade\n",
      "0   17      75      7\n",
      "2   24      90      9\n",
      "5   18      78      8\n"
     ]
    }
   ],
   "source": [
    "'''\n",
    "    Task 68:\n",
    "        Young, Higher Salary, and Higher Position\n",
    "'''\n",
    "print('Task 68:')  \n",
    "employees = pd.DataFrame({\n",
    "    \"age\": [17, 50, 24, 45, 65, 18], \n",
    "    \"salary\": [75, 33, 90, 175, 134, 78],\n",
    "    \"grade\" : [7, 8, 9, 2, 7, 8] \n",
    "})  \n",
    "print(employees)\n",
    "print('Young, Higher Salary, and Higher Position')\n",
    "young = employees.age < 30\n",
    "high_salary = employees.salary > 60\n",
    "high_position = employees.grade > 6\n",
    "young_salary_position = [young, high_salary, high_position]\n",
    "young_salary_position_Criteria = functools.reduce(lambda x, y : x & y, young_salary_position)\n",
    "print(employees[young_salary_position_Criteria])"
   ]
  },
  {
   "cell_type": "code",
   "execution_count": 77,
   "metadata": {},
   "outputs": [
    {
     "name": "stdout",
     "output_type": "stream",
     "text": [
      "Task 69:\n",
      "   age  salary  grade\n",
      "0   17      75      7\n",
      "1   50      33      8\n",
      "2   24      90      9\n",
      "3   45     175      2\n",
      "4   65     134      7\n",
      "5   18      78      8\n",
      "   User Age  Salary 2018  grade\n",
      "0        17           75      7\n",
      "1        50           33      8\n",
      "2        24           90      9\n",
      "3        45          175      2\n",
      "4        65          134      7\n",
      "5        18           78      8\n"
     ]
    }
   ],
   "source": [
    "'''\n",
    "    Task 69:\n",
    "        Rename columns\n",
    "        \n",
    "        \n",
    "'''\n",
    "print('Task 69:')  \n",
    "employees = pd.DataFrame({\n",
    "    \"age\": [17, 50, 24, 45, 65, 18], \n",
    "    \"salary\": [75, 33, 90, 175, 134, 78],\n",
    "    \"grade\" : [7, 8, 9, 2, 7, 8] \n",
    "})  \n",
    "print(employees)\n",
    "employees.rename(columns={'age': 'User Age', 'salary': 'Salary 2018'}, inplace=True)\n",
    "print(employees)"
   ]
  },
  {
   "cell_type": "code",
   "execution_count": 78,
   "metadata": {},
   "outputs": [
    {
     "name": "stdout",
     "output_type": "stream",
     "text": [
      "Task 70:\n",
      "   age  salary  grade\n",
      "0   17      75      7\n",
      "1   50      33      8\n",
      "2   24      90      9\n",
      "3   45     175      2\n",
      "4   65     134      7\n",
      "5   18      78      8\n",
      "   age  salary  grade     group\n",
      "0   17      75      7  0.163091\n",
      "1   50      33      8  1.473241\n",
      "2   24      90      9 -0.045672\n",
      "3   45     175      2 -1.028446\n",
      "4   65     134      7 -1.246228\n",
      "5   18      78      8  1.145015\n"
     ]
    }
   ],
   "source": [
    "'''\n",
    "    Task 70:\n",
    "        Add a new column\n",
    "        \n",
    "        \n",
    "'''\n",
    "print('Task 70:')  \n",
    "employees = pd.DataFrame({\n",
    "    \"age\": [17, 50, 24, 45, 65, 18], \n",
    "    \"salary\": [75, 33, 90, 175, 134, 78],\n",
    "    \"grade\" : [7, 8, 9, 2, 7, 8] \n",
    "})  \n",
    "print(employees)\n",
    "employees['group'] = pd.Series(np.random.randn(len(employees)))\n",
    "print(employees)            "
   ]
  },
  {
   "cell_type": "code",
   "execution_count": 79,
   "metadata": {},
   "outputs": [
    {
     "name": "stdout",
     "output_type": "stream",
     "text": [
      "Task 71:\n",
      "   age  salary  grade\n",
      "0   17      75      7\n",
      "1   50      33      8\n",
      "2   24      90      9\n",
      "3   45     175      2\n",
      "4   65     134      7\n",
      "5   18      78      8\n",
      "   age  salary  grade     group\n",
      "0   17      75      7 -1.818764\n",
      "1   50      33      8 -0.456546\n",
      "2   24      90      9 -1.886270\n",
      "3   45     175      2 -0.210496\n",
      "4   65     134      7  0.687381\n",
      "5   18      78      8 -1.323075\n",
      "   salary  grade     group\n",
      "0      75      7 -1.818764\n",
      "1      33      8 -0.456546\n",
      "2      90      9 -1.886270\n",
      "3     175      2 -0.210496\n",
      "4     134      7  0.687381\n",
      "5      78      8 -1.323075\n"
     ]
    }
   ],
   "source": [
    "'''\n",
    "    Task 71:\n",
    "        Drop a column\n",
    "        \n",
    "        \n",
    "'''\n",
    "print('Task 71:')  \n",
    "employees = pd.DataFrame({\n",
    "    \"age\": [17, 50, 24, 45, 65, 18], \n",
    "    \"salary\": [75, 33, 90, 175, 134, 78],\n",
    "    \"grade\" : [7, 8, 9, 2, 7, 8] \n",
    "})  \n",
    "print(employees)\n",
    "employees['group'] = pd.Series(np.random.randn(len(employees)))\n",
    "print(employees)\n",
    "employees.drop(employees.columns[[0]], axis=1, inplace = True)\n",
    "print(employees)            "
   ]
  },
  {
   "cell_type": "code",
   "execution_count": 80,
   "metadata": {},
   "outputs": [
    {
     "name": "stdout",
     "output_type": "stream",
     "text": [
      "Task 72:\n",
      "   age  salary  grade\n",
      "0   17      75      7\n",
      "1   50      33      8\n",
      "2   24      90      9\n",
      "3   45     175      2\n",
      "4   65     134      7\n",
      "5   18      78      8\n",
      "   age  salary  grade     group\n",
      "0   17      75      7 -1.111290\n",
      "1   50      33      8 -0.455595\n",
      "2   24      90      9  0.160526\n",
      "3   45     175      2 -1.221311\n",
      "4   65     134      7  0.134446\n",
      "5   18      78      8  0.225626\n",
      "   age     group\n",
      "0   17 -1.111290\n",
      "1   50 -0.455595\n",
      "2   24  0.160526\n",
      "3   45 -1.221311\n",
      "4   65  0.134446\n",
      "5   18  0.225626\n"
     ]
    }
   ],
   "source": [
    "'''\n",
    "    Task 72:\n",
    "        Drop multiple columns\n",
    "'''\n",
    "print('Task 72:')  \n",
    "employees = pd.DataFrame({\n",
    "    \"age\": [17, 50, 24, 45, 65, 18], \n",
    "    \"salary\": [75, 33, 90, 175, 134, 78],\n",
    "    \"grade\" : [7, 8, 9, 2, 7, 8] \n",
    "})  \n",
    "print(employees)\n",
    "employees['group'] = pd.Series(np.random.randn(len(employees)))\n",
    "print(employees)\n",
    "employees.drop(employees.columns[[1, 2]], axis=1, inplace = True)\n",
    "print(employees) "
   ]
  },
  {
   "cell_type": "code",
   "execution_count": 81,
   "metadata": {},
   "outputs": [
    {
     "name": "stdout",
     "output_type": "stream",
     "text": [
      "Task 73:\n",
      "   age  salary  grade  group\n",
      "0   17      75      7      1\n",
      "1   50      33      8      1\n",
      "2   24      90      9      2\n",
      "3   45     175      2      2\n",
      "4   65     134      7      2\n",
      "5   18      78      8      1\n",
      "   salary  grade\n",
      "0      75      7\n",
      "1      33      8\n",
      "2      90      9\n",
      "3     175      2\n",
      "4     134      7\n",
      "5      78      8\n"
     ]
    }
   ],
   "source": [
    "'''\n",
    "    Task 73:\n",
    "        Drop first and last column\n",
    "        \n",
    "'''\n",
    "print('Task 73:')  \n",
    "employees = pd.DataFrame({\n",
    "    \"age\": [17, 50, 24, 45, 65, 18], \n",
    "    \"salary\": [75, 33, 90, 175, 134, 78],\n",
    "    \"grade\" : [7, 8, 9, 2, 7, 8],\n",
    "    \"group\" : [1, 1, 2, 2, 2, 1] \n",
    "    \n",
    "})  \n",
    "print(employees)\n",
    "employees.drop(employees.columns[[0, len(employees.columns)-1]], axis=1, inplace = True)\n",
    "print(employees)   "
   ]
  },
  {
   "cell_type": "code",
   "execution_count": 82,
   "metadata": {},
   "outputs": [
    {
     "name": "stdout",
     "output_type": "stream",
     "text": [
      "Task 74:\n",
      "   age  salary  grade  group\n",
      "0   17      75      7      1\n",
      "1   50      33      8      1\n",
      "2   24      90      9      2\n",
      "3   45     175      2      2\n",
      "4   65     134      7      2\n",
      "5   18      78      8      1\n",
      "   age  salary  grade\n",
      "0   17      75      7\n",
      "1   50      33      8\n",
      "2   24      90      9\n",
      "3   45     175      2\n",
      "4   65     134      7\n",
      "5   18      78      8\n",
      "0    1\n",
      "1    1\n",
      "2    2\n",
      "3    2\n",
      "4    2\n",
      "5    1\n",
      "Name: group, dtype: int64\n"
     ]
    }
   ],
   "source": [
    "'''\n",
    "    Task 74:\n",
    "        Delete by pop function\n",
    "'''\n",
    "print('Task 74:')  \n",
    "employees = pd.DataFrame({\n",
    "    \"age\": [17, 50, 24, 45, 65, 18], \n",
    "    \"salary\": [75, 33, 90, 175, 134, 78],\n",
    "    \"grade\" : [7, 8, 9, 2, 7, 8],\n",
    "    \"group\" : [1, 1, 2, 2, 2, 1] \n",
    "    \n",
    "})  \n",
    "print(employees)\n",
    "group = employees.pop('group')\n",
    "print(employees)\n",
    "print(group)"
   ]
  },
  {
   "cell_type": "code",
   "execution_count": 83,
   "metadata": {},
   "outputs": [
    {
     "name": "stdout",
     "output_type": "stream",
     "text": [
      "Task 75:\n",
      "   one  two  three\n",
      "A    1    2      3\n",
      "B    4    5      6\n",
      "C    7    8      9\n"
     ]
    },
    {
     "name": "stderr",
     "output_type": "stream",
     "text": [
      "C:\\ProgramData\\Anaconda3.5\\lib\\site-packages\\ipykernel_launcher.py:8: FutureWarning: from_items is deprecated. Please use DataFrame.from_dict(dict(items), ...) instead. DataFrame.from_dict(OrderedDict(items)) may be used to preserve the key order.\n",
      "  \n"
     ]
    }
   ],
   "source": [
    "'''\n",
    "    Task 75:\n",
    "    \n",
    "        DataFrame.from_items\n",
    "        \n",
    "'''\n",
    "print('Task 75:')  \n",
    "df = pd.DataFrame.from_items([('A', [1, 2, 3]), ('B', [4, 5, 6]), ('C', [7,8, 9])], orient='index', columns=['one', 'two', 'three'])\n",
    "print(df)"
   ]
  },
  {
   "cell_type": "code",
   "execution_count": 84,
   "metadata": {},
   "outputs": [
    {
     "name": "stdout",
     "output_type": "stream",
     "text": [
      "Task 76:\n",
      "   age  salary  grade  group\n",
      "0   17      75      7      1\n",
      "1   50      33      8      1\n",
      "2   24      90      9      2\n",
      "3   45     175      2      2\n",
      "4   65     134      7      2\n",
      "5   18      78      8      1\n",
      "['age', 'salary', 'grade', 'group']\n",
      "[[17, 75, 7, 1], [50, 33, 8, 1], [24, 90, 9, 2], [45, 175, 2, 2], [65, 134, 7, 2], [18, 78, 8, 1]]\n"
     ]
    }
   ],
   "source": [
    "'''\n",
    "    Task 76:\n",
    "        Pandas to list\n",
    "        \n",
    "'''\n",
    "print('Task 76:')\n",
    "employees = pd.DataFrame({\n",
    "    \"age\": [17, 50, 24, 45, 65, 18], \n",
    "    \"salary\": [75, 33, 90, 175, 134, 78],\n",
    "    \"grade\" : [7, 8, 9, 2, 7, 8],\n",
    "    \"group\" : [1, 1, 2, 2, 2, 1] \n",
    "    \n",
    "})  \n",
    "print(employees)  \n",
    "employees_list1 = list(employees.columns.values) \n",
    "employees_list2 = employees.values.tolist()\n",
    "#employees_list = list(employees)\n",
    "print(employees_list1)\n",
    "print(employees_list2)"
   ]
  },
  {
   "cell_type": "code",
   "execution_count": 85,
   "metadata": {},
   "outputs": [
    {
     "name": "stdout",
     "output_type": "stream",
     "text": [
      "Task 77:\n",
      "   age  salary  grade  group\n",
      "0   17      75      7      1\n",
      "1   50      33      8      1\n",
      "2   24      90      9      2\n",
      "3   45     175      2      2\n",
      "4   65     134      7      2\n",
      "5   18      78      8      1\n",
      "[[17, 75, 7, 1], [50, 33, 8, 1], [24, 90, 9, 2], [45, 175, 2, 2], [65, 134, 7, 2], [18, 78, 8, 1]]\n",
      "<class 'list'>\n",
      "6\n"
     ]
    }
   ],
   "source": [
    "'''\n",
    "    Task 77:\n",
    "        Pandas rows to list\n",
    "        \n",
    "'''\n",
    "print('Task 77:')\n",
    "employees = pd.DataFrame({\n",
    "    \"age\": [17, 50, 24, 45, 65, 18], \n",
    "    \"salary\": [75, 33, 90, 175, 134, 78],\n",
    "    \"grade\" : [7, 8, 9, 2, 7, 8],\n",
    "    \"group\" : [1, 1, 2, 2, 2, 1] \n",
    "    \n",
    "})  \n",
    "print(employees)  \n",
    "employees_list2 = employees.values.tolist()\n",
    "print(employees_list2)\n",
    "print(type(employees_list2))\n",
    "print(len(employees_list2))"
   ]
  },
  {
   "cell_type": "code",
   "execution_count": 86,
   "metadata": {},
   "outputs": [
    {
     "name": "stdout",
     "output_type": "stream",
     "text": [
      "Task 78:\n",
      "   age  salary  grade  group\n",
      "0   17      75      7      1\n",
      "1   50      33      8      1\n",
      "2   24      90      9      2\n",
      "3   45     175      2      2\n",
      "4   65     134      7      2\n",
      "5   18      78      8      1\n",
      "[[ 17  75   7   1]\n",
      " [ 50  33   8   1]\n",
      " [ 24  90   9   2]\n",
      " [ 45 175   2   2]\n",
      " [ 65 134   7   2]\n",
      " [ 18  78   8   1]]\n",
      "<class 'numpy.ndarray'>\n",
      "(6, 4)\n"
     ]
    }
   ],
   "source": [
    "'''\n",
    "    Task 78:\n",
    "        Pandas rows to array \n",
    "        \n",
    "        Note: as_matrix is deprecated\n",
    "'''\n",
    "print('Task 78:')\n",
    "employees = pd.DataFrame({\n",
    "    \"age\": [17, 50, 24, 45, 65, 18], \n",
    "    \"salary\": [75, 33, 90, 175, 134, 78],\n",
    "    \"grade\" : [7, 8, 9, 2, 7, 8],\n",
    "    \"group\" : [1, 1, 2, 2, 2, 1] \n",
    "    \n",
    "})  \n",
    "print(employees)  \n",
    "employees_list2 = employees.values\n",
    "print(employees_list2)\n",
    "print(type(employees_list2))\n",
    "print(employees_list2.shape)"
   ]
  },
  {
   "cell_type": "code",
   "execution_count": 87,
   "metadata": {},
   "outputs": [
    {
     "name": "stdout",
     "output_type": "stream",
     "text": [
      "Task 79:\n",
      "   age  salary  grade  group\n",
      "0   17      75      7      1\n",
      "1   50      33      8      1\n",
      "2   24      90      9      2\n",
      "3   45     175      2      2\n",
      "4   65     134      7      2\n",
      "5   18      78      8      1\n",
      "<map object at 0x000001ED2186DDA0>\n",
      "<class 'map'>\n"
     ]
    }
   ],
   "source": [
    "'''\n",
    "    Task 79:\n",
    "        Pandas rows to map \n",
    "'''\n",
    "print('Task 79:')\n",
    "employees = pd.DataFrame({\n",
    "    \"age\": [17, 50, 24, 45, 65, 18], \n",
    "    \"salary\": [75, 33, 90, 175, 134, 78],\n",
    "    \"grade\" : [7, 8, 9, 2, 7, 8],\n",
    "    \"group\" : [1, 1, 2, 2, 2, 1] \n",
    "    \n",
    "})  \n",
    "print(employees)  \n",
    "employees_list2 = map(list, employees.values)\n",
    "print(employees_list2)\n",
    "print(type(employees_list2))"
   ]
  },
  {
   "cell_type": "code",
   "execution_count": 88,
   "metadata": {},
   "outputs": [
    {
     "name": "stdout",
     "output_type": "stream",
     "text": [
      "Task 80:\n",
      "   age  salary  grade  group\n",
      "0   17      75      7      1\n",
      "1   50      33      8      1\n",
      "2   24      90      9      2\n",
      "3   45     175      2      2\n",
      "4   65     134      7      2\n",
      "5   18      78      8      1\n",
      "[[17, 75, 7, 1], [50, 33, 8, 1], [24, 90, 9, 2], [45, 175, 2, 2], [65, 134, 7, 2], [18, 78, 8, 1]]\n",
      "<class 'list'>\n"
     ]
    }
   ],
   "source": [
    "'''\n",
    "    Task 80:\n",
    "        Pandas rows to map \n",
    "'''\n",
    "print('Task 80:')\n",
    "employees = pd.DataFrame({\n",
    "    \"age\": [17, 50, 24, 45, 65, 18], \n",
    "    \"salary\": [75, 33, 90, 175, 134, 78],\n",
    "    \"grade\" : [7, 8, 9, 2, 7, 8],\n",
    "    \"group\" : [1, 1, 2, 2, 2, 1] \n",
    "    \n",
    "})  \n",
    "print(employees)  \n",
    "employees_list2 = list(map(list, employees.values))\n",
    "print(employees_list2)\n",
    "print(type(employees_list2))"
   ]
  },
  {
   "cell_type": "code",
   "execution_count": 89,
   "metadata": {},
   "outputs": [
    {
     "name": "stdout",
     "output_type": "stream",
     "text": [
      "Task 81:\n",
      "   id      city  count\n",
      "0   1   Toronto      7\n",
      "1   1  Montreal      8\n",
      "2   2   Calgary      9\n",
      "3   2  Montreal      2\n",
      "4   3  Montreal      7\n",
      "5   3    Ottawa      8\n",
      "   id      city  count\n",
      "1   1  Montreal      8\n",
      "3   2  Montreal      2\n",
      "5   3    Ottawa      8\n"
     ]
    }
   ],
   "source": [
    "'''\n",
    "    Task 81:\n",
    "    \n",
    "    Drop duplicates\n",
    "'''\n",
    "print('Task 81:')  \n",
    "users = pd.DataFrame({\n",
    "    \"id\": [1, 1, 2, 2, 3, 3], \n",
    "    \"city\": ['Toronto', 'Montreal', 'Calgary', 'Montreal', 'Montreal', 'Ottawa'],\n",
    "    \"count\" : [7, 8, 9, 2, 7, 8] \n",
    "    \n",
    "}) \n",
    "print(users)\n",
    "users.drop_duplicates('id', inplace=True, keep='last')\n",
    "print(users)"
   ]
  },
  {
   "cell_type": "code",
   "execution_count": 90,
   "metadata": {},
   "outputs": [
    {
     "name": "stdout",
     "output_type": "stream",
     "text": [
      "Task 82:\n",
      "   id      city  count\n",
      "0   1   Toronto      7\n",
      "1   1  Montreal      8\n",
      "2   2   Calgary      9\n",
      "3   2  Montreal      2\n",
      "4   3  Montreal      7\n",
      "5   3    Ottawa      8\n",
      "   id      city\n",
      "0   1   Toronto\n",
      "1   1  Montreal\n",
      "2   2   Calgary\n",
      "3   2  Montreal\n",
      "4   3  Montreal\n",
      "5   3    Ottawa\n"
     ]
    }
   ],
   "source": [
    "'''\n",
    "    Task 82:\n",
    "    \n",
    "    Selecting multiple columns\n",
    "'''\n",
    "print('Task 82:')  \n",
    "users = pd.DataFrame({\n",
    "    \"id\": [1, 1, 2, 2, 3, 3], \n",
    "    \"city\": ['Toronto', 'Montreal', 'Calgary', 'Montreal', 'Montreal', 'Ottawa'],\n",
    "    \"count\" : [7, 8, 9, 2, 7, 8] \n",
    "    \n",
    "}) \n",
    "print(users)\n",
    "users1 = users[['id', 'city']]\n",
    "print(users1)"
   ]
  },
  {
   "cell_type": "code",
   "execution_count": 91,
   "metadata": {},
   "outputs": [
    {
     "name": "stdout",
     "output_type": "stream",
     "text": [
      "Task 83:\n",
      "   id      city  count\n",
      "0   1   Toronto      7\n",
      "1   1  Montreal      8\n",
      "2   2   Calgary      9\n",
      "3   2  Montreal      2\n",
      "4   3  Montreal      7\n",
      "5   3    Ottawa      8\n",
      "   id  count\n",
      "0   1      7\n",
      "1   1      8\n",
      "2   2      9\n",
      "3   2      2\n",
      "4   3      7\n",
      "5   3      8\n"
     ]
    }
   ],
   "source": [
    "'''\n",
    "    Task 83:\n",
    "    \n",
    "    Selecting multiple columns\n",
    "'''\n",
    "print('Task 83:')  \n",
    "users = pd.DataFrame({\n",
    "    \"id\": [1, 1, 2, 2, 3, 3], \n",
    "    \"city\": ['Toronto', 'Montreal', 'Calgary', 'Montreal', 'Montreal', 'Ottawa'],\n",
    "    \"count\" : [7, 8, 9, 2, 7, 8] \n",
    "    \n",
    "}) \n",
    "print(users)\n",
    "columns = ['id', 'count']\n",
    "users1 = pd.DataFrame(users, columns=columns)\n",
    "print(users1)"
   ]
  },
  {
   "cell_type": "code",
   "execution_count": 92,
   "metadata": {},
   "outputs": [
    {
     "name": "stdout",
     "output_type": "stream",
     "text": [
      "Task 84:\n",
      "   id      city  count\n",
      "0   1   Toronto      7\n",
      "1   1  Montreal      8\n",
      "2   2   Calgary      9\n",
      "3   2  Montreal      2\n",
      "4   3  Montreal      7\n",
      "5   3    Ottawa      8\n",
      "       city  count\n",
      "0   Toronto      7\n",
      "1  Montreal      8\n"
     ]
    }
   ],
   "source": [
    "'''\n",
    "    Task 84:\n",
    "    \n",
    "        Row and Column Slicing\n",
    "'''\n",
    "print('Task 84:')  \n",
    "users = pd.DataFrame({\n",
    "    \"id\": [1, 1, 2, 2, 3, 3], \n",
    "    \"city\": ['Toronto', 'Montreal', 'Calgary', 'Montreal', 'Montreal', 'Ottawa'],\n",
    "    \"count\" : [7, 8, 9, 2, 7, 8] \n",
    "    \n",
    "}) \n",
    "print(users)    \n",
    "users1 = users.iloc[0:2, 1:3]\n",
    "print(users1)"
   ]
  },
  {
   "cell_type": "code",
   "execution_count": 93,
   "metadata": {},
   "outputs": [
    {
     "name": "stdout",
     "output_type": "stream",
     "text": [
      "Task 85:\n",
      "   id      city  count\n",
      "0   1   Toronto      7\n",
      "1   1  Montreal      8\n",
      "2   2   Calgary      9\n",
      "3   2  Montreal      2\n",
      "4   3  Montreal      7\n",
      "5   3    Ottawa      8\n",
      "Toronto ==> 7\n",
      "Montreal ==> 8\n",
      "Calgary ==> 9\n",
      "Montreal ==> 2\n",
      "Montreal ==> 7\n",
      "Ottawa ==> 8\n"
     ]
    }
   ],
   "source": [
    "'''\n",
    "    Task 85:\n",
    "    \n",
    "        Iterating rows            \n",
    "'''\n",
    "print('Task 85:')  \n",
    "users = pd.DataFrame({\n",
    "    \"id\": [1, 1, 2, 2, 3, 3], \n",
    "    \"city\": ['Toronto', 'Montreal', 'Calgary', 'Montreal', 'Montreal', 'Ottawa'],\n",
    "    \"count\" : [7, 8, 9, 2, 7, 8] \n",
    "    \n",
    "}) \n",
    "print(users)    \n",
    "for index, row in users.iterrows():\n",
    "    print(row['city'], \"==>\", row['count'])"
   ]
  },
  {
   "cell_type": "code",
   "execution_count": 94,
   "metadata": {},
   "outputs": [
    {
     "name": "stdout",
     "output_type": "stream",
     "text": [
      "Task 86:\n",
      "   id      city  count\n",
      "0   1   Toronto      7\n",
      "1   1  Montreal      8\n",
      "2   2   Calgary      9\n",
      "3   2  Montreal      2\n",
      "4   3  Montreal      7\n",
      "5   3    Ottawa      8\n",
      "Toronto\n",
      "Montreal\n",
      "Calgary\n",
      "Montreal\n",
      "Montreal\n",
      "Ottawa\n",
      "7\n",
      "8\n",
      "9\n",
      "2\n",
      "7\n",
      "8\n"
     ]
    }
   ],
   "source": [
    "'''\n",
    "    Task 86:\n",
    "    \n",
    "        Iterating tuples           \n",
    "'''\n",
    "print('Task 86:')  \n",
    "users = pd.DataFrame({\n",
    "    \"id\": [1, 1, 2, 2, 3, 3], \n",
    "    \"city\": ['Toronto', 'Montreal', 'Calgary', 'Montreal', 'Montreal', 'Ottawa'],\n",
    "    \"count\" : [7, 8, 9, 2, 7, 8] \n",
    "    \n",
    "}) \n",
    "print(users)    \n",
    "for row in users.itertuples(index=True, name='Pandas'):\n",
    "    print(getattr(row, 'city'))\n",
    "    \n",
    "for row in users.itertuples(index=True, name='Pandas'):\n",
    "    print(row.count)"
   ]
  },
  {
   "cell_type": "code",
   "execution_count": 95,
   "metadata": {},
   "outputs": [
    {
     "name": "stdout",
     "output_type": "stream",
     "text": [
      "Task 87:\n",
      "   id      city  count\n",
      "0   1   Toronto      7\n",
      "1   1  Montreal      8\n",
      "2   2   Calgary      9\n",
      "3   2  Montreal      2\n",
      "4   3  Montreal      7\n",
      "5   3    Ottawa      8\n",
      "1\n",
      "Toronto\n",
      "7\n",
      "1\n",
      "Montreal\n",
      "8\n",
      "2\n",
      "Calgary\n",
      "9\n",
      "2\n",
      "Montreal\n",
      "2\n",
      "3\n",
      "Montreal\n",
      "7\n",
      "3\n",
      "Ottawa\n",
      "8\n"
     ]
    }
   ],
   "source": [
    "'''\n",
    "    Task 87:\n",
    "    \n",
    "    Iterating rows and columns\n",
    "        \n",
    "'''\n",
    "print('Task 87:')  \n",
    "users = pd.DataFrame({\n",
    "    \"id\": [1, 1, 2, 2, 3, 3], \n",
    "    \"city\": ['Toronto', 'Montreal', 'Calgary', 'Montreal', 'Montreal', 'Ottawa'],\n",
    "    \"count\" : [7, 8, 9, 2, 7, 8] \n",
    "    \n",
    "}) \n",
    "print(users)    \n",
    "for i, row in users.iterrows():\n",
    "    for j, col in row.iteritems():    \n",
    "        print(col)"
   ]
  },
  {
   "cell_type": "code",
   "execution_count": 96,
   "metadata": {},
   "outputs": [
    {
     "name": "stdout",
     "output_type": "stream",
     "text": [
      "Task 88:\n",
      "[{'points': 50, 'time': '5:00', 'year': 2010}, {'points': 25, 'time': '6:00', 'month': 'february'}, {'points': 90, 'time': '9:00', 'month': 'january'}, {'points_h1': 20, 'month': 'june'}]\n",
      "      month  points  points_h1  time    year\n",
      "0       NaN    50.0        NaN  5:00  2010.0\n",
      "1  february    25.0        NaN  6:00     NaN\n",
      "2   january    90.0        NaN  9:00     NaN\n",
      "3      june     NaN       20.0   NaN     NaN\n",
      "      month  points  points_h1  time    year\n",
      "0       NaN    50.0        NaN  5:00  2010.0\n",
      "1  february    25.0        NaN  6:00     NaN\n",
      "2   january    90.0        NaN  9:00     NaN\n",
      "3      june     NaN       20.0   NaN     NaN\n"
     ]
    }
   ],
   "source": [
    "'''\n",
    "    Task 88:\n",
    "    List of Dictionary to Dataframe\n",
    "    \n",
    "'''\n",
    "print('Task 88:')  \n",
    "pointlist = [\n",
    "                {'points': 50, 'time': '5:00', 'year': 2010}, \n",
    "                {'points': 25, 'time': '6:00', 'month': \"february\"}, \n",
    "                {'points':90, 'time': '9:00', 'month': 'january'}, \n",
    "                {'points_h1':20, 'month': 'june'}\n",
    "            ]\n",
    "print(pointlist)\n",
    "pointDf = pd.DataFrame(pointlist)\n",
    "print(pointDf)\n",
    "\n",
    "pointDf1 = pd.DataFrame.from_dict(pointlist)\n",
    "print(pointDf1)"
   ]
  },
  {
   "cell_type": "code",
   "execution_count": 97,
   "metadata": {},
   "outputs": [
    {
     "name": "stdout",
     "output_type": "stream",
     "text": [
      "Task 89:\n",
      "          0         1         2         3         4         5\n",
      "0  0.368119 -0.618385 -0.177485 -1.688823  0.282728 -1.604442\n",
      "1  0.197708       NaN  1.149004  1.214974  2.106309  3.029326\n",
      "2  0.919111       NaN  0.967708  0.755446  1.689067  1.909511\n",
      "3 -0.147434  0.597057 -1.209589  0.260891 -0.201666  0.395529\n",
      "4  1.106504 -0.658631 -1.078996  0.868128 -1.007905  0.551846\n",
      "5  0.288789 -0.854239 -0.630745       NaN  1.550963  1.011978\n",
      "6 -1.261622  1.465020 -1.497316 -0.743806  1.712161 -0.180887\n",
      "7  0.701357  0.514685 -1.521904  1.205764  1.188268       NaN\n",
      "8  1.560825 -1.254417  0.842408 -1.631466  1.020026       NaN\n",
      "9 -0.679136  1.022602 -0.987331  0.056432  0.729207 -0.396791\n",
      "       0      1      2      3      4      5\n",
      "0  False  False  False  False  False  False\n",
      "1  False   True  False  False  False  False\n",
      "2  False   True  False  False  False  False\n",
      "3  False  False  False  False  False  False\n",
      "4  False  False  False  False  False  False\n",
      "5  False  False  False   True  False  False\n",
      "6  False  False  False  False  False  False\n",
      "7  False  False  False  False  False   True\n",
      "8  False  False  False  False  False   True\n",
      "9  False  False  False  False  False  False\n"
     ]
    }
   ],
   "source": [
    "'''\n",
    "    Task 89:\n",
    "        \n",
    "'''\n",
    "print('Task 89:')\n",
    "df = pd.DataFrame(np.random.randn(10,6))\n",
    "# Make a few areas have NaN values\n",
    "df.iloc[1:3,1] = np.nan\n",
    "df.iloc[5,3] = np.nan\n",
    "df.iloc[7:9,5] = np.nan\n",
    "print(df)\n",
    "df1 = df.isnull()\n",
    "print(df1)"
   ]
  },
  {
   "cell_type": "code",
   "execution_count": 98,
   "metadata": {},
   "outputs": [
    {
     "name": "stdout",
     "output_type": "stream",
     "text": [
      "Task 90:\n",
      "          0         1         2         3         4         5\n",
      "0 -0.646320 -1.176296 -1.376492  0.297095 -1.039141 -2.167651\n",
      "1 -0.057257       NaN  1.418066 -0.323321  0.882381 -1.053136\n",
      "2 -0.153016       NaN  1.259651 -0.956823 -2.840020  0.174007\n",
      "3  1.506137  1.110249 -0.209510  0.148389 -1.446699 -0.515826\n",
      "4 -0.094109  1.628408 -0.709620 -0.057702  1.873879  0.078500\n",
      "5 -0.067984 -0.695959  0.508124       NaN -1.022061 -1.934815\n",
      "6 -0.678744 -0.374348  0.614621  0.257375 -0.551115  0.248703\n",
      "7  0.871593 -0.306885 -1.405786 -0.813769 -0.768716       NaN\n",
      "8 -2.299637  0.512105  0.297790  1.110300 -0.643319       NaN\n",
      "9  1.125623 -0.615287 -0.551879  0.167211  1.087697 -0.368400\n",
      "0    0\n",
      "1    2\n",
      "2    0\n",
      "3    1\n",
      "4    0\n",
      "5    2\n",
      "dtype: int64\n",
      "0    0\n",
      "1    1\n",
      "2    1\n",
      "3    0\n",
      "4    0\n",
      "5    1\n",
      "6    0\n",
      "7    1\n",
      "8    1\n",
      "9    0\n",
      "dtype: int64\n",
      "[0, 2, 0, 1, 0, 2]\n"
     ]
    }
   ],
   "source": [
    "'''\n",
    "    Task 90:\n",
    "    \n",
    "    Sum of all nan\n",
    "    \n",
    "'''\n",
    "print('Task 90:')  \n",
    "df = pd.DataFrame(np.random.randn(10,6))\n",
    "# Make a few areas have NaN values\n",
    "df.iloc[1:3,1] = np.nan\n",
    "df.iloc[5,3] = np.nan\n",
    "df.iloc[7:9,5] = np.nan\n",
    "print(df)\n",
    "print(df.isnull().sum())\n",
    "print(df.isnull().sum(axis=1))\n",
    "print(df.isnull().sum().tolist())"
   ]
  },
  {
   "cell_type": "code",
   "execution_count": 99,
   "metadata": {},
   "outputs": [
    {
     "name": "stdout",
     "output_type": "stream",
     "text": [
      "Task 91:\n",
      "          0         1         2         3         4         5\n",
      "0 -1.450815 -1.455864  0.488327 -1.152947  0.292693 -0.799981\n",
      "1 -0.972923       NaN  0.118029  0.314374 -0.196083  0.837908\n",
      "2 -0.883625       NaN  0.566772 -0.146879  0.092887 -0.581539\n",
      "3  0.791767 -0.701232  0.251238  0.603868  0.569165  0.681942\n",
      "4 -0.231014  0.629848 -0.261716  0.798203  0.446231  1.002701\n",
      "5 -1.495765  2.182456 -1.395450       NaN -0.420351  1.893818\n",
      "6 -1.928687 -0.231873 -0.573793 -0.435147  0.375527 -0.984068\n",
      "7  0.260411 -0.953879 -1.456337  1.891719  1.663261       NaN\n",
      "8  0.841930  0.616432  0.753801 -2.292130  0.221986       NaN\n",
      "9  1.523449  1.084963  0.005979  0.914671  1.095556 -1.586332\n",
      "0    0\n",
      "1    1\n",
      "2    1\n",
      "3    0\n",
      "4    0\n",
      "5    1\n",
      "6    0\n",
      "7    1\n",
      "8    1\n",
      "9    0\n",
      "dtype: int64\n"
     ]
    }
   ],
   "source": [
    "'''\n",
    "    Task 91:\n",
    "    \n",
    "    Sum of all nan rowwise\n",
    "    \n",
    "'''\n",
    "print('Task 91:')  \n",
    "df = pd.DataFrame(np.random.randn(10,6))\n",
    "# Make a few areas have NaN values\n",
    "df.iloc[1:3,1] = np.nan\n",
    "df.iloc[5,3] = np.nan\n",
    "df.iloc[7:9,5] = np.nan\n",
    "print(df)\n",
    "print(df.isnull().sum(axis=1))"
   ]
  },
  {
   "cell_type": "code",
   "execution_count": 100,
   "metadata": {},
   "outputs": [
    {
     "name": "stdout",
     "output_type": "stream",
     "text": [
      "Task 92:\n",
      "          0         1         2         3         4         5\n",
      "0 -1.194023 -0.415784  0.678128  0.262107  2.690122  1.696489\n",
      "1  0.806665       NaN  0.601253 -1.368084  1.475203 -1.147096\n",
      "2 -0.361020       NaN  2.097511 -0.154594  0.966872 -0.345844\n",
      "3  2.164456  1.101059  0.362580  0.077831  0.874325  0.758031\n",
      "4 -0.832723 -1.063599 -0.972769 -0.089096  1.652491 -1.569990\n",
      "5  0.138751 -0.599608  1.740047       NaN  1.903410  0.723574\n",
      "6 -1.472464 -2.952072 -2.597340  0.314686 -0.927545  1.777650\n",
      "7  0.199804 -0.161187 -0.183639  0.045560 -0.549197       NaN\n",
      "8 -2.215744  0.128328 -0.267326 -0.249821 -3.413820       NaN\n",
      "9  0.993981  0.949607 -0.060822  0.019378 -1.314542  1.224525\n",
      "[0, 2, 0, 1, 0, 2]\n"
     ]
    }
   ],
   "source": [
    "'''\n",
    "    Task 92:\n",
    "    \n",
    "    Sum of all nan as list\n",
    "    \n",
    "'''\n",
    "print('Task 92:')  \n",
    "df = pd.DataFrame(np.random.randn(10,6))\n",
    "# Make a few areas have NaN values\n",
    "df.iloc[1:3,1] = np.nan\n",
    "df.iloc[5,3] = np.nan\n",
    "df.iloc[7:9,5] = np.nan\n",
    "print(df)\n",
    "print(df.isnull().sum().tolist())"
   ]
  },
  {
   "cell_type": "code",
   "execution_count": 101,
   "metadata": {},
   "outputs": [
    {
     "name": "stdout",
     "output_type": "stream",
     "text": [
      "Task 93:\n",
      "   id      city  count\n",
      "0   1   Toronto      7\n",
      "1   1  Montreal      8\n",
      "2   2   Calgary      9\n",
      "3   2  Montreal      2\n",
      "4   3  Montreal      7\n",
      "5   3    Ottawa      8\n",
      "       city  count  id\n",
      "0   Toronto      7   1\n",
      "1  Montreal      8   1\n",
      "2   Calgary      9   2\n",
      "3  Montreal      2   2\n",
      "4  Montreal      7   3\n",
      "5    Ottawa      8   3\n",
      "       city  id  count\n",
      "0   Toronto   1      7\n",
      "1  Montreal   1      8\n",
      "2   Calgary   2      9\n",
      "3  Montreal   2      2\n",
      "4  Montreal   3      7\n",
      "5    Ottawa   3      8\n"
     ]
    },
    {
     "name": "stderr",
     "output_type": "stream",
     "text": [
      "C:\\ProgramData\\Anaconda3.5\\lib\\site-packages\\ipykernel_launcher.py:16: FutureWarning: '.reindex_axis' is deprecated and will be removed in a future version. Use '.reindex' instead.\n",
      "  app.launch_new_instance()\n"
     ]
    }
   ],
   "source": [
    "'''\n",
    "    Task 93:\n",
    "        Change the order of columns\n",
    "        \n",
    "        Note:\n",
    "            FutureWarning: '.reindex_axis' is deprecated and will be removed in a future version \n",
    "'''\n",
    "print('Task 93:')  \n",
    "users = pd.DataFrame({\n",
    "    \"id\": [1, 1, 2, 2, 3, 3], \n",
    "    \"city\": ['Toronto', 'Montreal', 'Calgary', 'Montreal', 'Montreal', 'Ottawa'],\n",
    "    \"count\" : [7, 8, 9, 2, 7, 8] \n",
    "    \n",
    "}) \n",
    "print(users)\n",
    "users1 = users.reindex_axis(['city', 'count', 'id'], axis=1)\n",
    "print(users1)\n",
    "\n",
    "users2 = users.reindex(columns=['city', 'id', 'count'])\n",
    "print(users2)"
   ]
  },
  {
   "cell_type": "code",
   "execution_count": 102,
   "metadata": {},
   "outputs": [
    {
     "name": "stdout",
     "output_type": "stream",
     "text": [
      "Task 94:\n",
      "   id  number\n",
      "0   1      10\n",
      "1   2      20\n",
      "2   3      30\n",
      "3   4      30\n",
      "4   5      23\n",
      "5   6      12\n",
      "   id  number\n",
      "1   2      20\n",
      "2   3      30\n",
      "4   5      23\n"
     ]
    }
   ],
   "source": [
    "'''\n",
    "    Task 94:\n",
    "        Drop multiple rows\n",
    "'''\n",
    "print('Task 94:')\n",
    "numbers = pd.DataFrame({\n",
    "    \"id\": [1, 2, 3, 4, 5, 6], \n",
    "    \"number\": [10, 20, 30, 30, 23, 12]\n",
    "    \n",
    "})  \n",
    "print(numbers)\n",
    "numbers.drop(numbers.index[[0, 3, 5]], inplace=True)\n",
    "print(numbers)"
   ]
  },
  {
   "cell_type": "code",
   "execution_count": 103,
   "metadata": {},
   "outputs": [
    {
     "name": "stdout",
     "output_type": "stream",
     "text": [
      "Task 95:\n",
      "       id  number\n",
      "one     1      10\n",
      "two     2      20\n",
      "three   3      30\n",
      "four    4      30\n",
      "five    5      23\n",
      "six     6      12\n",
      "       id  number\n",
      "one     1      10\n",
      "three   3      30\n",
      "four    4      30\n",
      "five    5      23\n",
      "       id  number\n",
      "one     1      10\n",
      "three   3      30\n",
      "four    4      30\n",
      "five    5      23\n",
      "six     6      12\n"
     ]
    }
   ],
   "source": [
    "'''\n",
    "    Task 95:\n",
    "    \n",
    "    Drop multiple rows by row name\n",
    "'''\n",
    "print('Task 95:')  \n",
    "numbers = pd.DataFrame({\n",
    "    \"id\": [1, 2, 3, 4, 5, 6], \n",
    "    \"number\": [10, 20, 30, 30, 23, 12]\n",
    "    \n",
    "}, index=['one', 'two', 'three', 'four', 'five', 'six'])  \n",
    "print(numbers)\n",
    "numbers1 = numbers.drop(['two','six'])\n",
    "print(numbers1)\n",
    "numbers2 = numbers.drop('two')\n",
    "print(numbers2)"
   ]
  },
  {
   "cell_type": "code",
   "execution_count": 104,
   "metadata": {},
   "outputs": [
    {
     "name": "stdout",
     "output_type": "stream",
     "text": [
      "Task 96:\n"
     ]
    }
   ],
   "source": [
    "'''\n",
    "    Task 96:\n",
    "    \n",
    "    Drop a single row\n",
    "        \n",
    "'''\n",
    "print('Task 96:')  "
   ]
  },
  {
   "cell_type": "code",
   "execution_count": 105,
   "metadata": {},
   "outputs": [
    {
     "name": "stdout",
     "output_type": "stream",
     "text": [
      "Task 97:\n",
      "[[ 1  2  3  4  5]\n",
      " [ 6  7  8  9 10]\n",
      " [11 12 13 14 15]\n",
      " [16 17 18 19 20]]\n",
      "[[ 1  2  3  4  5]\n",
      " [11 12 13 14 15]]\n"
     ]
    }
   ],
   "source": [
    "'''\n",
    "    Task 97:\n",
    "        Get the the odd row\n",
    "'''\n",
    "print('Task 97:')  \n",
    "x = numpy.array([\n",
    "                    [ 1,  2,  3,  4,  5],\n",
    "                    [ 6,  7,  8,  9, 10],\n",
    "                    [11, 12, 13, 14, 15],\n",
    "                    [16, 17, 18, 19, 20]\n",
    "                ]\n",
    "    )\n",
    "print(x)\n",
    "print(x[::2])"
   ]
  },
  {
   "cell_type": "code",
   "execution_count": 106,
   "metadata": {},
   "outputs": [
    {
     "name": "stdout",
     "output_type": "stream",
     "text": [
      "Task 98:\n",
      "[[ 1  2  3  4  5]\n",
      " [ 6  7  8  9 10]\n",
      " [11 12 13 14 15]\n",
      " [16 17 18 19 20]]\n",
      "[[ 2  4]\n",
      " [ 7  9]\n",
      " [12 14]\n",
      " [17 19]]\n"
     ]
    }
   ],
   "source": [
    "'''\n",
    "    Task 98:\n",
    "        Get the even columns\n",
    "'''\n",
    "print('Task 98:')  \n",
    "x = numpy.array([\n",
    "                    [ 1,  2,  3,  4,  5],\n",
    "                    [ 6,  7,  8,  9, 10],\n",
    "                    [11, 12, 13, 14, 15],\n",
    "                    [16, 17, 18, 19, 20]\n",
    "                ]\n",
    "    )\n",
    "print(x)\n",
    "print(x[:, 1::2])"
   ]
  },
  {
   "cell_type": "code",
   "execution_count": 107,
   "metadata": {},
   "outputs": [
    {
     "name": "stdout",
     "output_type": "stream",
     "text": [
      "Task 99:\n",
      "[[ 1  2  3  4  5]\n",
      " [ 6  7  8  9 10]\n",
      " [11 12 13 14 15]\n",
      " [16 17 18 19 20]]\n",
      "[[ 2  4]\n",
      " [12 14]]\n"
     ]
    }
   ],
   "source": [
    "'''\n",
    "    Task 99:\n",
    "        Odd rows and even columns\n",
    "'''\n",
    "print('Task 99:')  \n",
    "\n",
    "x = numpy.array([\n",
    "                    [ 1,  2,  3,  4,  5],\n",
    "                    [ 6,  7,  8,  9, 10],\n",
    "                    [11, 12, 13, 14, 15],\n",
    "                    [16, 17, 18, 19, 20]\n",
    "                ]\n",
    "    )\n",
    "print(x)\n",
    "print(x[::2, 1::2])"
   ]
  },
  {
   "cell_type": "code",
   "execution_count": 108,
   "metadata": {},
   "outputs": [
    {
     "name": "stdout",
     "output_type": "stream",
     "text": [
      "Task 100:\n",
      "   id      city  count\n",
      "0   1   Toronto      7\n",
      "1   1  Montreal      8\n",
      "2   2   Calgary      9\n",
      "3   2  Montreal      2\n",
      "4   3  Montreal      7\n",
      "5   3    Ottawa      8\n",
      "   id      city  count\n",
      "0   1   Toronto      7\n",
      "2   2   Calgary      9\n",
      "4   3  Montreal      7\n"
     ]
    }
   ],
   "source": [
    "'''\n",
    "    Task 100:\n",
    "    \n",
    "    Drop duplicates\n",
    "'''\n",
    "print('Task 100:')  \n",
    "users = pd.DataFrame({\n",
    "    \"id\": [1, 1, 2, 2, 3, 3], \n",
    "    \"city\": ['Toronto', 'Montreal', 'Calgary', 'Montreal', 'Montreal', 'Ottawa'],\n",
    "    \"count\" : [7, 8, 9, 2, 7, 8] \n",
    "    \n",
    "}) \n",
    "print(users)\n",
    "users.drop_duplicates('id', inplace=True)\n",
    "print(users)"
   ]
  },
  {
   "cell_type": "code",
   "execution_count": 109,
   "metadata": {},
   "outputs": [
    {
     "name": "stdout",
     "output_type": "stream",
     "text": [
      "Task 101:\n",
      "    name      city  count\n",
      "0  kevin   Toronto      7\n",
      "1  james  Montreal      8\n",
      "2  kumar   Calgary      9\n",
      "3  kevin  Montreal      2\n",
      "4  kevin  Montreal      7\n",
      "5  james    Ottawa      8\n",
      "    name      city  count\n",
      "2  kumar   Calgary      9\n",
      "4  kevin  Montreal      7\n",
      "5  james    Ottawa      8\n",
      "    name      city  count\n",
      "2  kumar   Calgary      9\n",
      "4  kevin  Montreal      7\n",
      "5  james    Ottawa      8\n"
     ]
    }
   ],
   "source": [
    "'''\n",
    "    Task 101:\n",
    "    \n",
    "    Drop all duplicates\n",
    "'''\n",
    "print('Task 101:')  \n",
    "users = pd.DataFrame({\n",
    "    \"name\": ['kevin', 'james', 'kumar', 'kevin', 'kevin', 'james'], \n",
    "    \"city\": ['Toronto', 'Montreal', 'Calgary', 'Montreal', 'Montreal', 'Ottawa'],\n",
    "    \"count\" : [7, 8, 9, 2, 7, 8] \n",
    "    \n",
    "}) \n",
    "print(users)\n",
    "users.drop_duplicates('name', inplace=True, keep='last')\n",
    "print(users)\n",
    "users1 = users.drop_duplicates('name', keep=False)\n",
    "print(users1)"
   ]
  },
  {
   "cell_type": "code",
   "execution_count": 110,
   "metadata": {},
   "outputs": [
    {
     "name": "stdout",
     "output_type": "stream",
     "text": [
      "Task 102:\n"
     ]
    }
   ],
   "source": [
    "'''\n",
    "    Task 102:\n",
    "        Multi Indexing:\n",
    "'''\n",
    "print('Task 102:')  "
   ]
  },
  {
   "cell_type": "code",
   "execution_count": 111,
   "metadata": {},
   "outputs": [
    {
     "name": "stdout",
     "output_type": "stream",
     "text": [
      "Task 103:\n",
      "                   A\n",
      "2013-08-01  1.950254\n",
      "2013-08-02 -0.586291\n",
      "2013-08-05 -0.589643\n",
      "2013-08-06  0.003645\n",
      "2013-08-07 -1.621845\n",
      "2013-08-08 -0.063462\n",
      "                   A\n",
      "2013-08-01  1.950254\n",
      "2013-08-02 -0.586291\n",
      "2013-08-05 -0.589643\n",
      "2013-08-06       NaN\n",
      "2013-08-07 -1.621845\n",
      "2013-08-08 -0.063462\n"
     ]
    }
   ],
   "source": [
    "'''\n",
    "    Task 103:\n",
    "        Missing Data:\n",
    "        Make A'th 3rd coulmn Nan\n",
    "'''\n",
    "print('Task 103:')  \n",
    "df = pd.DataFrame(np.random.randn(6,1), index=pd.date_range('2013-08-01', periods=6, freq='B'), columns=list('A'))\n",
    "print(df)\n",
    "df.loc[df.index[3], 'A'] = np.nan\n",
    "print(df)"
   ]
  },
  {
   "cell_type": "code",
   "execution_count": 112,
   "metadata": {},
   "outputs": [
    {
     "name": "stdout",
     "output_type": "stream",
     "text": [
      "Task 104:\n",
      "                   A\n",
      "2013-08-08 -0.063462\n",
      "2013-08-07 -1.621845\n",
      "2013-08-06 -1.621845\n",
      "2013-08-05 -0.589643\n",
      "2013-08-02 -0.586291\n",
      "2013-08-01  1.950254\n"
     ]
    }
   ],
   "source": [
    "'''\n",
    "    Task 104:\n",
    "        \n",
    "'''\n",
    "print('Task 104:')\n",
    "df1 = df.reindex(df.index[::-1]).ffill()\n",
    "print(df1) "
   ]
  },
  {
   "cell_type": "code",
   "execution_count": 113,
   "metadata": {},
   "outputs": [
    {
     "name": "stdout",
     "output_type": "stream",
     "text": [
      "Task 105:\n"
     ]
    }
   ],
   "source": [
    "'''\n",
    "    Task 105:\n",
    "       Cumsum reset Nan\n",
    "'''\n",
    "print('Task 105:') "
   ]
  },
  {
   "cell_type": "code",
   "execution_count": 114,
   "metadata": {},
   "outputs": [
    {
     "name": "stdout",
     "output_type": "stream",
     "text": [
      "Task 106:\n",
      "               first\n",
      "0  someproduct_step2\n"
     ]
    }
   ],
   "source": [
    "'''\n",
    "    Task 106:\n",
    "'''\n",
    "print('Task 106:')\n",
    "df = pd.DataFrame([['http://wap.blah.com/xxx/id/11/someproduct_step2;jsessionid=....']],columns=['A'])\n",
    "df1 = df['A'].str.findall(\"\\\\d\\\\d\\\\/(.*?)(;|\\\\?)\",flags=re.IGNORECASE).apply(lambda x: pd.Series(x[0][0],index=['first']))\n",
    "print(df1) "
   ]
  },
  {
   "cell_type": "code",
   "execution_count": 115,
   "metadata": {},
   "outputs": [
    {
     "name": "stdout",
     "output_type": "stream",
     "text": [
      "Task 107:\n",
      "  animal size  weight  adult\n",
      "0    cat    S       8  False\n",
      "1    dog    S      10  False\n",
      "2    cat    M      11  False\n",
      "3   fish    M       1  False\n",
      "4    dog    M      20  False\n",
      "5    cat    L      12   True\n",
      "6    cat    L      12   True\n"
     ]
    }
   ],
   "source": [
    "'''\n",
    "    Task 107:\n",
    "        Grouping:\n",
    "'''\n",
    "print('Task 107:')  \n",
    "animals_df = pd.DataFrame({'animal': 'cat dog cat fish dog cat cat'.split(),\n",
    "                   'size': list('SSMMMLL'),\n",
    "                   'weight': [8, 10, 11, 1, 20, 12, 12],\n",
    "                   'adult' : [False] * 5 + [True] * 2})\n",
    "print(animals_df)"
   ]
  },
  {
   "cell_type": "code",
   "execution_count": 116,
   "metadata": {},
   "outputs": [
    {
     "name": "stdout",
     "output_type": "stream",
     "text": [
      "Task 108:\n",
      "animal\n",
      "cat     L\n",
      "dog     M\n",
      "fish    M\n",
      "dtype: object\n"
     ]
    }
   ],
   "source": [
    "'''\n",
    "    Task 108:\n",
    "        Basic Group by\n",
    "'''\n",
    "print('Task 108:')  \n",
    "animals_df1 = animals_df.groupby('animal').apply(lambda x: x['size'][x['weight'].idxmax()])\n",
    "print(animals_df1)"
   ]
  },
  {
   "cell_type": "code",
   "execution_count": 117,
   "metadata": {},
   "outputs": [
    {
     "name": "stdout",
     "output_type": "stream",
     "text": [
      "Task 109:\n",
      "  animal size  weight  adult\n",
      "0    cat    S       8  False\n",
      "2    cat    M      11  False\n",
      "5    cat    L      12   True\n",
      "6    cat    L      12   True\n"
     ]
    }
   ],
   "source": [
    "'''\n",
    "    Task 109:\n",
    "       Get Group\n",
    "'''\n",
    "print('Task 109:')  \n",
    "cats = animals_df.groupby(['animal']).get_group('cat')\n",
    "print(cats)"
   ]
  },
  {
   "cell_type": "code",
   "execution_count": 118,
   "metadata": {},
   "outputs": [
    {
     "name": "stdout",
     "output_type": "stream",
     "text": [
      "Task 110:\n",
      "  animal size  weight  adult\n",
      "4    dog    M      20  False\n"
     ]
    }
   ],
   "source": [
    "'''\n",
    "    Task 110:\n",
    "        \n",
    "'''\n",
    "print('Task 110:')\n",
    "weights = animals_df.groupby(['weight']).get_group(20)  \n",
    "print(weights)"
   ]
  },
  {
   "cell_type": "code",
   "execution_count": 119,
   "metadata": {},
   "outputs": [
    {
     "name": "stdout",
     "output_type": "stream",
     "text": [
      "Task 111:\n",
      "       size   weight  adult\n",
      "animal                     \n",
      "cat       L   9.4375   True\n",
      "dog       L  12.5000   True\n",
      "fish      L   1.2500   True\n"
     ]
    }
   ],
   "source": [
    "'''\n",
    "    Task 111:\n",
    "        \n",
    "'''\n",
    "print('Task 111:')  \n",
    "def GrowUp(x):\n",
    "    avg_weight =  sum(x[x['size'] == 'series1'].weight * 1.5)\n",
    "    avg_weight += sum(x[x['size'] == 'M'].weight * 1.25)\n",
    "    avg_weight += sum(x[x['size'] == 'L'].weight)\n",
    "    avg_weight /= len(x)\n",
    "    return pd.Series(['L',avg_weight,True], index=['size', 'weight', 'adult'])\n",
    "\n",
    "animals_df = pd.DataFrame({'animal': 'cat dog cat fish dog cat cat'.split(),\n",
    "                   'size': list('SSMMMLL'),\n",
    "                   'weight': [8, 10, 11, 1, 20, 12, 12],\n",
    "                   'adult' : [False] * 5 + [True] * 2})\n",
    "\n",
    "gb = animals_df.groupby(['animal'])\n",
    "\n",
    "expected_df = gb.apply(GrowUp)\n",
    "print(expected_df)"
   ]
  },
  {
   "cell_type": "code",
   "execution_count": 120,
   "metadata": {},
   "outputs": [
    {
     "name": "stdout",
     "output_type": "stream",
     "text": [
      "Task 112:\n",
      "0    0.01\n",
      "1    0.02\n",
      "2    0.03\n",
      "3    0.04\n",
      "4    0.05\n",
      "dtype: float64\n",
      "0    1.010000\n",
      "1    1.030200\n",
      "2    1.061106\n",
      "3    1.103550\n",
      "4    1.158728\n",
      "dtype: float64\n"
     ]
    },
    {
     "name": "stderr",
     "output_type": "stream",
     "text": [
      "C:\\ProgramData\\Anaconda3.5\\lib\\site-packages\\ipykernel_launcher.py:12: FutureWarning: Currently, 'apply' passes the values as ndarrays to the applied function. In the future, this will change to passing it as Series objects. You need to specify 'raw=True' to keep the current behaviour, and you can pass 'raw=False' to silence this warning\n",
      "  if sys.path[0] == '':\n"
     ]
    }
   ],
   "source": [
    "'''\n",
    "    Task 112:\n",
    "        Expanding Apply:\n",
    "'''\n",
    "print('Task 112:')  \n",
    "series1 = pd.Series([i / 100.0 for i in range(1,6)])\n",
    "print(series1)\n",
    "def CumRet(x,y):\n",
    "    return x * (1 + y)\n",
    "def Red(x):\n",
    "    return functools.reduce(CumRet,x,1.0)\n",
    "s2 = series1.expanding().apply(Red)\n",
    "# s2 = series1.expanding().apply(Red, raw=True) # is not working\n",
    "print(s2)"
   ]
  },
  {
   "cell_type": "code",
   "execution_count": 121,
   "metadata": {},
   "outputs": [
    {
     "name": "stdout",
     "output_type": "stream",
     "text": [
      "Task 113:\n",
      "   Toronto  Ottawa  Calgary  Montreal  Quebec\n",
      "0       16      30       50        23      34\n",
      "1       48      56        4        58      93\n",
      "2       53      73       13        67      79\n"
     ]
    }
   ],
   "source": [
    "'''\n",
    "Task 113:\n",
    "    Create Random integer between 0 to 100 with  10 itmes (2 rows, 5 columns)\n",
    "'''\n",
    "print('Task 113:')\n",
    "df = pd.DataFrame(np.random.randint(0, 100, size=(3, 5)), columns=['Toronto', 'Ottawa', 'Calgary', 'Montreal', 'Quebec'])\n",
    "print(df)"
   ]
  },
  {
   "cell_type": "code",
   "execution_count": null,
   "metadata": {},
   "outputs": [],
   "source": []
  },
  {
   "cell_type": "code",
   "execution_count": null,
   "metadata": {},
   "outputs": [],
   "source": []
  },
  {
   "cell_type": "code",
   "execution_count": null,
   "metadata": {},
   "outputs": [],
   "source": []
  }
 ],
 "metadata": {
  "kernelspec": {
   "display_name": "Python 3",
   "language": "python",
   "name": "python3"
  },
  "language_info": {
   "codemirror_mode": {
    "name": "ipython",
    "version": 3
   },
   "file_extension": ".py",
   "mimetype": "text/x-python",
   "name": "python",
   "nbconvert_exporter": "python",
   "pygments_lexer": "ipython3",
   "version": "3.6.5"
  },
  "toc": {
   "base_numbering": 1,
   "nav_menu": {},
   "number_sections": false,
   "sideBar": false,
   "skip_h1_title": false,
   "title_cell": "Table of Contents",
   "title_sidebar": "Contents",
   "toc_cell": false,
   "toc_position": {},
   "toc_section_display": false,
   "toc_window_display": false
  }
 },
 "nbformat": 4,
 "nbformat_minor": 2
}
